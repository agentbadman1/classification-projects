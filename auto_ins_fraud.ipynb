{
 "cells": [
  {
   "cell_type": "code",
   "execution_count": 1,
   "id": "1ba2b6a2",
   "metadata": {},
   "outputs": [],
   "source": [
    "import pandas as pd\n",
    "import numpy as np"
   ]
  },
  {
   "cell_type": "code",
   "execution_count": 2,
   "id": "ea9bc408",
   "metadata": {},
   "outputs": [],
   "source": [
    "data = pd.read_csv('Automobile_insurance_fraud.csv')"
   ]
  },
  {
   "cell_type": "code",
   "execution_count": 3,
   "id": "9ea0ad4d",
   "metadata": {},
   "outputs": [
    {
     "data": {
      "text/plain": [
       "(1000, 40)"
      ]
     },
     "execution_count": 3,
     "metadata": {},
     "output_type": "execute_result"
    }
   ],
   "source": [
    "data.shape"
   ]
  },
  {
   "cell_type": "code",
   "execution_count": 4,
   "id": "30c2804e",
   "metadata": {},
   "outputs": [
    {
     "data": {
      "text/html": [
       "<div>\n",
       "<style scoped>\n",
       "    .dataframe tbody tr th:only-of-type {\n",
       "        vertical-align: middle;\n",
       "    }\n",
       "\n",
       "    .dataframe tbody tr th {\n",
       "        vertical-align: top;\n",
       "    }\n",
       "\n",
       "    .dataframe thead th {\n",
       "        text-align: right;\n",
       "    }\n",
       "</style>\n",
       "<table border=\"1\" class=\"dataframe\">\n",
       "  <thead>\n",
       "    <tr style=\"text-align: right;\">\n",
       "      <th></th>\n",
       "      <th>months_as_customer</th>\n",
       "      <th>age</th>\n",
       "      <th>policy_number</th>\n",
       "      <th>policy_bind_date</th>\n",
       "      <th>policy_state</th>\n",
       "      <th>policy_csl</th>\n",
       "      <th>policy_deductable</th>\n",
       "      <th>policy_annual_premium</th>\n",
       "      <th>umbrella_limit</th>\n",
       "      <th>insured_zip</th>\n",
       "      <th>...</th>\n",
       "      <th>police_report_available</th>\n",
       "      <th>total_claim_amount</th>\n",
       "      <th>injury_claim</th>\n",
       "      <th>property_claim</th>\n",
       "      <th>vehicle_claim</th>\n",
       "      <th>auto_make</th>\n",
       "      <th>auto_model</th>\n",
       "      <th>auto_year</th>\n",
       "      <th>fraud_reported</th>\n",
       "      <th>_c39</th>\n",
       "    </tr>\n",
       "  </thead>\n",
       "  <tbody>\n",
       "    <tr>\n",
       "      <th>0</th>\n",
       "      <td>328</td>\n",
       "      <td>48</td>\n",
       "      <td>521585</td>\n",
       "      <td>17-10-2014</td>\n",
       "      <td>OH</td>\n",
       "      <td>250/500</td>\n",
       "      <td>1000</td>\n",
       "      <td>1406.91</td>\n",
       "      <td>0</td>\n",
       "      <td>466132</td>\n",
       "      <td>...</td>\n",
       "      <td>YES</td>\n",
       "      <td>71610</td>\n",
       "      <td>6510</td>\n",
       "      <td>13020</td>\n",
       "      <td>52080</td>\n",
       "      <td>Saab</td>\n",
       "      <td>92x</td>\n",
       "      <td>2004</td>\n",
       "      <td>Y</td>\n",
       "      <td>NaN</td>\n",
       "    </tr>\n",
       "    <tr>\n",
       "      <th>1</th>\n",
       "      <td>228</td>\n",
       "      <td>42</td>\n",
       "      <td>342868</td>\n",
       "      <td>27-06-2006</td>\n",
       "      <td>IN</td>\n",
       "      <td>250/500</td>\n",
       "      <td>2000</td>\n",
       "      <td>1197.22</td>\n",
       "      <td>5000000</td>\n",
       "      <td>468176</td>\n",
       "      <td>...</td>\n",
       "      <td>?</td>\n",
       "      <td>5070</td>\n",
       "      <td>780</td>\n",
       "      <td>780</td>\n",
       "      <td>3510</td>\n",
       "      <td>Mercedes</td>\n",
       "      <td>E400</td>\n",
       "      <td>2007</td>\n",
       "      <td>Y</td>\n",
       "      <td>NaN</td>\n",
       "    </tr>\n",
       "    <tr>\n",
       "      <th>2</th>\n",
       "      <td>134</td>\n",
       "      <td>29</td>\n",
       "      <td>687698</td>\n",
       "      <td>06-09-2000</td>\n",
       "      <td>OH</td>\n",
       "      <td>100/300</td>\n",
       "      <td>2000</td>\n",
       "      <td>1413.14</td>\n",
       "      <td>5000000</td>\n",
       "      <td>430632</td>\n",
       "      <td>...</td>\n",
       "      <td>NO</td>\n",
       "      <td>34650</td>\n",
       "      <td>7700</td>\n",
       "      <td>3850</td>\n",
       "      <td>23100</td>\n",
       "      <td>Dodge</td>\n",
       "      <td>RAM</td>\n",
       "      <td>2007</td>\n",
       "      <td>N</td>\n",
       "      <td>NaN</td>\n",
       "    </tr>\n",
       "    <tr>\n",
       "      <th>3</th>\n",
       "      <td>256</td>\n",
       "      <td>41</td>\n",
       "      <td>227811</td>\n",
       "      <td>25-05-1990</td>\n",
       "      <td>IL</td>\n",
       "      <td>250/500</td>\n",
       "      <td>2000</td>\n",
       "      <td>1415.74</td>\n",
       "      <td>6000000</td>\n",
       "      <td>608117</td>\n",
       "      <td>...</td>\n",
       "      <td>NO</td>\n",
       "      <td>63400</td>\n",
       "      <td>6340</td>\n",
       "      <td>6340</td>\n",
       "      <td>50720</td>\n",
       "      <td>Chevrolet</td>\n",
       "      <td>Tahoe</td>\n",
       "      <td>2014</td>\n",
       "      <td>Y</td>\n",
       "      <td>NaN</td>\n",
       "    </tr>\n",
       "    <tr>\n",
       "      <th>4</th>\n",
       "      <td>228</td>\n",
       "      <td>44</td>\n",
       "      <td>367455</td>\n",
       "      <td>06-06-2014</td>\n",
       "      <td>IL</td>\n",
       "      <td>500/1000</td>\n",
       "      <td>1000</td>\n",
       "      <td>1583.91</td>\n",
       "      <td>6000000</td>\n",
       "      <td>610706</td>\n",
       "      <td>...</td>\n",
       "      <td>NO</td>\n",
       "      <td>6500</td>\n",
       "      <td>1300</td>\n",
       "      <td>650</td>\n",
       "      <td>4550</td>\n",
       "      <td>Accura</td>\n",
       "      <td>RSX</td>\n",
       "      <td>2009</td>\n",
       "      <td>N</td>\n",
       "      <td>NaN</td>\n",
       "    </tr>\n",
       "  </tbody>\n",
       "</table>\n",
       "<p>5 rows × 40 columns</p>\n",
       "</div>"
      ],
      "text/plain": [
       "   months_as_customer  age  policy_number policy_bind_date policy_state  \\\n",
       "0                 328   48         521585       17-10-2014           OH   \n",
       "1                 228   42         342868       27-06-2006           IN   \n",
       "2                 134   29         687698       06-09-2000           OH   \n",
       "3                 256   41         227811       25-05-1990           IL   \n",
       "4                 228   44         367455       06-06-2014           IL   \n",
       "\n",
       "  policy_csl  policy_deductable  policy_annual_premium  umbrella_limit  \\\n",
       "0    250/500               1000                1406.91               0   \n",
       "1    250/500               2000                1197.22         5000000   \n",
       "2    100/300               2000                1413.14         5000000   \n",
       "3    250/500               2000                1415.74         6000000   \n",
       "4   500/1000               1000                1583.91         6000000   \n",
       "\n",
       "   insured_zip  ... police_report_available total_claim_amount injury_claim  \\\n",
       "0       466132  ...                     YES              71610         6510   \n",
       "1       468176  ...                       ?               5070          780   \n",
       "2       430632  ...                      NO              34650         7700   \n",
       "3       608117  ...                      NO              63400         6340   \n",
       "4       610706  ...                      NO               6500         1300   \n",
       "\n",
       "  property_claim vehicle_claim  auto_make  auto_model auto_year  \\\n",
       "0          13020         52080       Saab         92x      2004   \n",
       "1            780          3510   Mercedes        E400      2007   \n",
       "2           3850         23100      Dodge         RAM      2007   \n",
       "3           6340         50720  Chevrolet       Tahoe      2014   \n",
       "4            650          4550     Accura         RSX      2009   \n",
       "\n",
       "  fraud_reported _c39  \n",
       "0              Y  NaN  \n",
       "1              Y  NaN  \n",
       "2              N  NaN  \n",
       "3              Y  NaN  \n",
       "4              N  NaN  \n",
       "\n",
       "[5 rows x 40 columns]"
      ]
     },
     "execution_count": 4,
     "metadata": {},
     "output_type": "execute_result"
    }
   ],
   "source": [
    "data.head()"
   ]
  },
  {
   "cell_type": "code",
   "execution_count": 5,
   "id": "54ea0b58",
   "metadata": {
    "scrolled": true
   },
   "outputs": [
    {
     "name": "stdout",
     "output_type": "stream",
     "text": [
      "<class 'pandas.core.frame.DataFrame'>\n",
      "RangeIndex: 1000 entries, 0 to 999\n",
      "Data columns (total 40 columns):\n",
      " #   Column                       Non-Null Count  Dtype  \n",
      "---  ------                       --------------  -----  \n",
      " 0   months_as_customer           1000 non-null   int64  \n",
      " 1   age                          1000 non-null   int64  \n",
      " 2   policy_number                1000 non-null   int64  \n",
      " 3   policy_bind_date             1000 non-null   object \n",
      " 4   policy_state                 1000 non-null   object \n",
      " 5   policy_csl                   1000 non-null   object \n",
      " 6   policy_deductable            1000 non-null   int64  \n",
      " 7   policy_annual_premium        1000 non-null   float64\n",
      " 8   umbrella_limit               1000 non-null   int64  \n",
      " 9   insured_zip                  1000 non-null   int64  \n",
      " 10  insured_sex                  1000 non-null   object \n",
      " 11  insured_education_level      1000 non-null   object \n",
      " 12  insured_occupation           1000 non-null   object \n",
      " 13  insured_hobbies              1000 non-null   object \n",
      " 14  insured_relationship         1000 non-null   object \n",
      " 15  capital-gains                1000 non-null   int64  \n",
      " 16  capital-loss                 1000 non-null   int64  \n",
      " 17  incident_date                1000 non-null   object \n",
      " 18  incident_type                1000 non-null   object \n",
      " 19  collision_type               1000 non-null   object \n",
      " 20  incident_severity            1000 non-null   object \n",
      " 21  authorities_contacted        1000 non-null   object \n",
      " 22  incident_state               1000 non-null   object \n",
      " 23  incident_city                1000 non-null   object \n",
      " 24  incident_location            1000 non-null   object \n",
      " 25  incident_hour_of_the_day     1000 non-null   int64  \n",
      " 26  number_of_vehicles_involved  1000 non-null   int64  \n",
      " 27  property_damage              1000 non-null   object \n",
      " 28  bodily_injuries              1000 non-null   int64  \n",
      " 29  witnesses                    1000 non-null   int64  \n",
      " 30  police_report_available      1000 non-null   object \n",
      " 31  total_claim_amount           1000 non-null   int64  \n",
      " 32  injury_claim                 1000 non-null   int64  \n",
      " 33  property_claim               1000 non-null   int64  \n",
      " 34  vehicle_claim                1000 non-null   int64  \n",
      " 35  auto_make                    1000 non-null   object \n",
      " 36  auto_model                   1000 non-null   object \n",
      " 37  auto_year                    1000 non-null   int64  \n",
      " 38  fraud_reported               1000 non-null   object \n",
      " 39  _c39                         0 non-null      float64\n",
      "dtypes: float64(2), int64(17), object(21)\n",
      "memory usage: 312.6+ KB\n"
     ]
    }
   ],
   "source": [
    "data.info()"
   ]
  },
  {
   "cell_type": "code",
   "execution_count": 6,
   "id": "12b7ad74",
   "metadata": {},
   "outputs": [],
   "source": [
    "data.drop('_c39',axis=1,inplace=True)"
   ]
  },
  {
   "cell_type": "code",
   "execution_count": 7,
   "id": "e9ce4907",
   "metadata": {},
   "outputs": [],
   "source": [
    "data.set_index('policy_number',inplace=True)"
   ]
  },
  {
   "cell_type": "code",
   "execution_count": 8,
   "id": "8dc0fe01",
   "metadata": {},
   "outputs": [
    {
     "data": {
      "text/plain": [
       "(1000, 38)"
      ]
     },
     "execution_count": 8,
     "metadata": {},
     "output_type": "execute_result"
    }
   ],
   "source": [
    "data.shape"
   ]
  },
  {
   "cell_type": "code",
   "execution_count": 9,
   "id": "7a135c1f",
   "metadata": {},
   "outputs": [
    {
     "data": {
      "text/html": [
       "<div>\n",
       "<style scoped>\n",
       "    .dataframe tbody tr th:only-of-type {\n",
       "        vertical-align: middle;\n",
       "    }\n",
       "\n",
       "    .dataframe tbody tr th {\n",
       "        vertical-align: top;\n",
       "    }\n",
       "\n",
       "    .dataframe thead th {\n",
       "        text-align: right;\n",
       "    }\n",
       "</style>\n",
       "<table border=\"1\" class=\"dataframe\">\n",
       "  <thead>\n",
       "    <tr style=\"text-align: right;\">\n",
       "      <th></th>\n",
       "      <th>months_as_customer</th>\n",
       "      <th>age</th>\n",
       "      <th>policy_bind_date</th>\n",
       "      <th>policy_state</th>\n",
       "      <th>policy_csl</th>\n",
       "      <th>policy_deductable</th>\n",
       "      <th>policy_annual_premium</th>\n",
       "      <th>umbrella_limit</th>\n",
       "      <th>insured_zip</th>\n",
       "      <th>insured_sex</th>\n",
       "      <th>...</th>\n",
       "      <th>witnesses</th>\n",
       "      <th>police_report_available</th>\n",
       "      <th>total_claim_amount</th>\n",
       "      <th>injury_claim</th>\n",
       "      <th>property_claim</th>\n",
       "      <th>vehicle_claim</th>\n",
       "      <th>auto_make</th>\n",
       "      <th>auto_model</th>\n",
       "      <th>auto_year</th>\n",
       "      <th>fraud_reported</th>\n",
       "    </tr>\n",
       "    <tr>\n",
       "      <th>policy_number</th>\n",
       "      <th></th>\n",
       "      <th></th>\n",
       "      <th></th>\n",
       "      <th></th>\n",
       "      <th></th>\n",
       "      <th></th>\n",
       "      <th></th>\n",
       "      <th></th>\n",
       "      <th></th>\n",
       "      <th></th>\n",
       "      <th></th>\n",
       "      <th></th>\n",
       "      <th></th>\n",
       "      <th></th>\n",
       "      <th></th>\n",
       "      <th></th>\n",
       "      <th></th>\n",
       "      <th></th>\n",
       "      <th></th>\n",
       "      <th></th>\n",
       "      <th></th>\n",
       "    </tr>\n",
       "  </thead>\n",
       "  <tbody>\n",
       "    <tr>\n",
       "      <th>521585</th>\n",
       "      <td>328</td>\n",
       "      <td>48</td>\n",
       "      <td>17-10-2014</td>\n",
       "      <td>OH</td>\n",
       "      <td>250/500</td>\n",
       "      <td>1000</td>\n",
       "      <td>1406.91</td>\n",
       "      <td>0</td>\n",
       "      <td>466132</td>\n",
       "      <td>MALE</td>\n",
       "      <td>...</td>\n",
       "      <td>2</td>\n",
       "      <td>YES</td>\n",
       "      <td>71610</td>\n",
       "      <td>6510</td>\n",
       "      <td>13020</td>\n",
       "      <td>52080</td>\n",
       "      <td>Saab</td>\n",
       "      <td>92x</td>\n",
       "      <td>2004</td>\n",
       "      <td>Y</td>\n",
       "    </tr>\n",
       "    <tr>\n",
       "      <th>342868</th>\n",
       "      <td>228</td>\n",
       "      <td>42</td>\n",
       "      <td>27-06-2006</td>\n",
       "      <td>IN</td>\n",
       "      <td>250/500</td>\n",
       "      <td>2000</td>\n",
       "      <td>1197.22</td>\n",
       "      <td>5000000</td>\n",
       "      <td>468176</td>\n",
       "      <td>MALE</td>\n",
       "      <td>...</td>\n",
       "      <td>0</td>\n",
       "      <td>?</td>\n",
       "      <td>5070</td>\n",
       "      <td>780</td>\n",
       "      <td>780</td>\n",
       "      <td>3510</td>\n",
       "      <td>Mercedes</td>\n",
       "      <td>E400</td>\n",
       "      <td>2007</td>\n",
       "      <td>Y</td>\n",
       "    </tr>\n",
       "    <tr>\n",
       "      <th>687698</th>\n",
       "      <td>134</td>\n",
       "      <td>29</td>\n",
       "      <td>06-09-2000</td>\n",
       "      <td>OH</td>\n",
       "      <td>100/300</td>\n",
       "      <td>2000</td>\n",
       "      <td>1413.14</td>\n",
       "      <td>5000000</td>\n",
       "      <td>430632</td>\n",
       "      <td>FEMALE</td>\n",
       "      <td>...</td>\n",
       "      <td>3</td>\n",
       "      <td>NO</td>\n",
       "      <td>34650</td>\n",
       "      <td>7700</td>\n",
       "      <td>3850</td>\n",
       "      <td>23100</td>\n",
       "      <td>Dodge</td>\n",
       "      <td>RAM</td>\n",
       "      <td>2007</td>\n",
       "      <td>N</td>\n",
       "    </tr>\n",
       "    <tr>\n",
       "      <th>227811</th>\n",
       "      <td>256</td>\n",
       "      <td>41</td>\n",
       "      <td>25-05-1990</td>\n",
       "      <td>IL</td>\n",
       "      <td>250/500</td>\n",
       "      <td>2000</td>\n",
       "      <td>1415.74</td>\n",
       "      <td>6000000</td>\n",
       "      <td>608117</td>\n",
       "      <td>FEMALE</td>\n",
       "      <td>...</td>\n",
       "      <td>2</td>\n",
       "      <td>NO</td>\n",
       "      <td>63400</td>\n",
       "      <td>6340</td>\n",
       "      <td>6340</td>\n",
       "      <td>50720</td>\n",
       "      <td>Chevrolet</td>\n",
       "      <td>Tahoe</td>\n",
       "      <td>2014</td>\n",
       "      <td>Y</td>\n",
       "    </tr>\n",
       "    <tr>\n",
       "      <th>367455</th>\n",
       "      <td>228</td>\n",
       "      <td>44</td>\n",
       "      <td>06-06-2014</td>\n",
       "      <td>IL</td>\n",
       "      <td>500/1000</td>\n",
       "      <td>1000</td>\n",
       "      <td>1583.91</td>\n",
       "      <td>6000000</td>\n",
       "      <td>610706</td>\n",
       "      <td>MALE</td>\n",
       "      <td>...</td>\n",
       "      <td>1</td>\n",
       "      <td>NO</td>\n",
       "      <td>6500</td>\n",
       "      <td>1300</td>\n",
       "      <td>650</td>\n",
       "      <td>4550</td>\n",
       "      <td>Accura</td>\n",
       "      <td>RSX</td>\n",
       "      <td>2009</td>\n",
       "      <td>N</td>\n",
       "    </tr>\n",
       "  </tbody>\n",
       "</table>\n",
       "<p>5 rows × 38 columns</p>\n",
       "</div>"
      ],
      "text/plain": [
       "               months_as_customer  age policy_bind_date policy_state  \\\n",
       "policy_number                                                          \n",
       "521585                        328   48       17-10-2014           OH   \n",
       "342868                        228   42       27-06-2006           IN   \n",
       "687698                        134   29       06-09-2000           OH   \n",
       "227811                        256   41       25-05-1990           IL   \n",
       "367455                        228   44       06-06-2014           IL   \n",
       "\n",
       "              policy_csl  policy_deductable  policy_annual_premium  \\\n",
       "policy_number                                                        \n",
       "521585           250/500               1000                1406.91   \n",
       "342868           250/500               2000                1197.22   \n",
       "687698           100/300               2000                1413.14   \n",
       "227811           250/500               2000                1415.74   \n",
       "367455          500/1000               1000                1583.91   \n",
       "\n",
       "               umbrella_limit  insured_zip insured_sex  ... witnesses  \\\n",
       "policy_number                                           ...             \n",
       "521585                      0       466132        MALE  ...         2   \n",
       "342868                5000000       468176        MALE  ...         0   \n",
       "687698                5000000       430632      FEMALE  ...         3   \n",
       "227811                6000000       608117      FEMALE  ...         2   \n",
       "367455                6000000       610706        MALE  ...         1   \n",
       "\n",
       "              police_report_available total_claim_amount injury_claim  \\\n",
       "policy_number                                                           \n",
       "521585                            YES              71610         6510   \n",
       "342868                              ?               5070          780   \n",
       "687698                             NO              34650         7700   \n",
       "227811                             NO              63400         6340   \n",
       "367455                             NO               6500         1300   \n",
       "\n",
       "               property_claim  vehicle_claim  auto_make auto_model auto_year  \\\n",
       "policy_number                                                                  \n",
       "521585                  13020          52080       Saab        92x      2004   \n",
       "342868                    780           3510   Mercedes       E400      2007   \n",
       "687698                   3850          23100      Dodge        RAM      2007   \n",
       "227811                   6340          50720  Chevrolet      Tahoe      2014   \n",
       "367455                    650           4550     Accura        RSX      2009   \n",
       "\n",
       "              fraud_reported  \n",
       "policy_number                 \n",
       "521585                     Y  \n",
       "342868                     Y  \n",
       "687698                     N  \n",
       "227811                     Y  \n",
       "367455                     N  \n",
       "\n",
       "[5 rows x 38 columns]"
      ]
     },
     "execution_count": 9,
     "metadata": {},
     "output_type": "execute_result"
    }
   ],
   "source": [
    "data.head()"
   ]
  },
  {
   "cell_type": "code",
   "execution_count": 10,
   "id": "4a04d0be",
   "metadata": {},
   "outputs": [
    {
     "name": "stderr",
     "output_type": "stream",
     "text": [
      "C:\\Users\\d2god\\AppData\\Local\\Temp\\ipykernel_1440\\1941168426.py:1: UserWarning: Parsing dates in DD/MM/YYYY format when dayfirst=False (the default) was specified. This may lead to inconsistently parsed dates! Specify a format to ensure consistent parsing.\n",
      "  data['policy_bind_date'] = pd.to_datetime(data['policy_bind_date'])\n"
     ]
    }
   ],
   "source": [
    "data['policy_bind_date'] = pd.to_datetime(data['policy_bind_date'])"
   ]
  },
  {
   "cell_type": "code",
   "execution_count": 11,
   "id": "e72e42fb",
   "metadata": {},
   "outputs": [],
   "source": [
    "data['policy_bind_year'] = data['policy_bind_date'].dt.year"
   ]
  },
  {
   "cell_type": "code",
   "execution_count": 12,
   "id": "ce3f1956",
   "metadata": {},
   "outputs": [
    {
     "data": {
      "text/html": [
       "<div>\n",
       "<style scoped>\n",
       "    .dataframe tbody tr th:only-of-type {\n",
       "        vertical-align: middle;\n",
       "    }\n",
       "\n",
       "    .dataframe tbody tr th {\n",
       "        vertical-align: top;\n",
       "    }\n",
       "\n",
       "    .dataframe thead th {\n",
       "        text-align: right;\n",
       "    }\n",
       "</style>\n",
       "<table border=\"1\" class=\"dataframe\">\n",
       "  <thead>\n",
       "    <tr style=\"text-align: right;\">\n",
       "      <th></th>\n",
       "      <th>months_as_customer</th>\n",
       "      <th>age</th>\n",
       "      <th>policy_bind_date</th>\n",
       "      <th>policy_state</th>\n",
       "      <th>policy_csl</th>\n",
       "      <th>policy_deductable</th>\n",
       "      <th>policy_annual_premium</th>\n",
       "      <th>umbrella_limit</th>\n",
       "      <th>insured_zip</th>\n",
       "      <th>insured_sex</th>\n",
       "      <th>...</th>\n",
       "      <th>police_report_available</th>\n",
       "      <th>total_claim_amount</th>\n",
       "      <th>injury_claim</th>\n",
       "      <th>property_claim</th>\n",
       "      <th>vehicle_claim</th>\n",
       "      <th>auto_make</th>\n",
       "      <th>auto_model</th>\n",
       "      <th>auto_year</th>\n",
       "      <th>fraud_reported</th>\n",
       "      <th>policy_bind_year</th>\n",
       "    </tr>\n",
       "    <tr>\n",
       "      <th>policy_number</th>\n",
       "      <th></th>\n",
       "      <th></th>\n",
       "      <th></th>\n",
       "      <th></th>\n",
       "      <th></th>\n",
       "      <th></th>\n",
       "      <th></th>\n",
       "      <th></th>\n",
       "      <th></th>\n",
       "      <th></th>\n",
       "      <th></th>\n",
       "      <th></th>\n",
       "      <th></th>\n",
       "      <th></th>\n",
       "      <th></th>\n",
       "      <th></th>\n",
       "      <th></th>\n",
       "      <th></th>\n",
       "      <th></th>\n",
       "      <th></th>\n",
       "      <th></th>\n",
       "    </tr>\n",
       "  </thead>\n",
       "  <tbody>\n",
       "    <tr>\n",
       "      <th>521585</th>\n",
       "      <td>328</td>\n",
       "      <td>48</td>\n",
       "      <td>2014-10-17</td>\n",
       "      <td>OH</td>\n",
       "      <td>250/500</td>\n",
       "      <td>1000</td>\n",
       "      <td>1406.91</td>\n",
       "      <td>0</td>\n",
       "      <td>466132</td>\n",
       "      <td>MALE</td>\n",
       "      <td>...</td>\n",
       "      <td>YES</td>\n",
       "      <td>71610</td>\n",
       "      <td>6510</td>\n",
       "      <td>13020</td>\n",
       "      <td>52080</td>\n",
       "      <td>Saab</td>\n",
       "      <td>92x</td>\n",
       "      <td>2004</td>\n",
       "      <td>Y</td>\n",
       "      <td>2014</td>\n",
       "    </tr>\n",
       "    <tr>\n",
       "      <th>342868</th>\n",
       "      <td>228</td>\n",
       "      <td>42</td>\n",
       "      <td>2006-06-27</td>\n",
       "      <td>IN</td>\n",
       "      <td>250/500</td>\n",
       "      <td>2000</td>\n",
       "      <td>1197.22</td>\n",
       "      <td>5000000</td>\n",
       "      <td>468176</td>\n",
       "      <td>MALE</td>\n",
       "      <td>...</td>\n",
       "      <td>?</td>\n",
       "      <td>5070</td>\n",
       "      <td>780</td>\n",
       "      <td>780</td>\n",
       "      <td>3510</td>\n",
       "      <td>Mercedes</td>\n",
       "      <td>E400</td>\n",
       "      <td>2007</td>\n",
       "      <td>Y</td>\n",
       "      <td>2006</td>\n",
       "    </tr>\n",
       "    <tr>\n",
       "      <th>687698</th>\n",
       "      <td>134</td>\n",
       "      <td>29</td>\n",
       "      <td>2000-06-09</td>\n",
       "      <td>OH</td>\n",
       "      <td>100/300</td>\n",
       "      <td>2000</td>\n",
       "      <td>1413.14</td>\n",
       "      <td>5000000</td>\n",
       "      <td>430632</td>\n",
       "      <td>FEMALE</td>\n",
       "      <td>...</td>\n",
       "      <td>NO</td>\n",
       "      <td>34650</td>\n",
       "      <td>7700</td>\n",
       "      <td>3850</td>\n",
       "      <td>23100</td>\n",
       "      <td>Dodge</td>\n",
       "      <td>RAM</td>\n",
       "      <td>2007</td>\n",
       "      <td>N</td>\n",
       "      <td>2000</td>\n",
       "    </tr>\n",
       "    <tr>\n",
       "      <th>227811</th>\n",
       "      <td>256</td>\n",
       "      <td>41</td>\n",
       "      <td>1990-05-25</td>\n",
       "      <td>IL</td>\n",
       "      <td>250/500</td>\n",
       "      <td>2000</td>\n",
       "      <td>1415.74</td>\n",
       "      <td>6000000</td>\n",
       "      <td>608117</td>\n",
       "      <td>FEMALE</td>\n",
       "      <td>...</td>\n",
       "      <td>NO</td>\n",
       "      <td>63400</td>\n",
       "      <td>6340</td>\n",
       "      <td>6340</td>\n",
       "      <td>50720</td>\n",
       "      <td>Chevrolet</td>\n",
       "      <td>Tahoe</td>\n",
       "      <td>2014</td>\n",
       "      <td>Y</td>\n",
       "      <td>1990</td>\n",
       "    </tr>\n",
       "    <tr>\n",
       "      <th>367455</th>\n",
       "      <td>228</td>\n",
       "      <td>44</td>\n",
       "      <td>2014-06-06</td>\n",
       "      <td>IL</td>\n",
       "      <td>500/1000</td>\n",
       "      <td>1000</td>\n",
       "      <td>1583.91</td>\n",
       "      <td>6000000</td>\n",
       "      <td>610706</td>\n",
       "      <td>MALE</td>\n",
       "      <td>...</td>\n",
       "      <td>NO</td>\n",
       "      <td>6500</td>\n",
       "      <td>1300</td>\n",
       "      <td>650</td>\n",
       "      <td>4550</td>\n",
       "      <td>Accura</td>\n",
       "      <td>RSX</td>\n",
       "      <td>2009</td>\n",
       "      <td>N</td>\n",
       "      <td>2014</td>\n",
       "    </tr>\n",
       "  </tbody>\n",
       "</table>\n",
       "<p>5 rows × 39 columns</p>\n",
       "</div>"
      ],
      "text/plain": [
       "               months_as_customer  age policy_bind_date policy_state  \\\n",
       "policy_number                                                          \n",
       "521585                        328   48       2014-10-17           OH   \n",
       "342868                        228   42       2006-06-27           IN   \n",
       "687698                        134   29       2000-06-09           OH   \n",
       "227811                        256   41       1990-05-25           IL   \n",
       "367455                        228   44       2014-06-06           IL   \n",
       "\n",
       "              policy_csl  policy_deductable  policy_annual_premium  \\\n",
       "policy_number                                                        \n",
       "521585           250/500               1000                1406.91   \n",
       "342868           250/500               2000                1197.22   \n",
       "687698           100/300               2000                1413.14   \n",
       "227811           250/500               2000                1415.74   \n",
       "367455          500/1000               1000                1583.91   \n",
       "\n",
       "               umbrella_limit  insured_zip insured_sex  ...  \\\n",
       "policy_number                                           ...   \n",
       "521585                      0       466132        MALE  ...   \n",
       "342868                5000000       468176        MALE  ...   \n",
       "687698                5000000       430632      FEMALE  ...   \n",
       "227811                6000000       608117      FEMALE  ...   \n",
       "367455                6000000       610706        MALE  ...   \n",
       "\n",
       "              police_report_available total_claim_amount injury_claim  \\\n",
       "policy_number                                                           \n",
       "521585                            YES              71610         6510   \n",
       "342868                              ?               5070          780   \n",
       "687698                             NO              34650         7700   \n",
       "227811                             NO              63400         6340   \n",
       "367455                             NO               6500         1300   \n",
       "\n",
       "              property_claim  vehicle_claim  auto_make auto_model auto_year  \\\n",
       "policy_number                                                                 \n",
       "521585                 13020          52080       Saab        92x      2004   \n",
       "342868                   780           3510   Mercedes       E400      2007   \n",
       "687698                  3850          23100      Dodge        RAM      2007   \n",
       "227811                  6340          50720  Chevrolet      Tahoe      2014   \n",
       "367455                   650           4550     Accura        RSX      2009   \n",
       "\n",
       "              fraud_reported policy_bind_year  \n",
       "policy_number                                  \n",
       "521585                     Y             2014  \n",
       "342868                     Y             2006  \n",
       "687698                     N             2000  \n",
       "227811                     Y             1990  \n",
       "367455                     N             2014  \n",
       "\n",
       "[5 rows x 39 columns]"
      ]
     },
     "execution_count": 12,
     "metadata": {},
     "output_type": "execute_result"
    }
   ],
   "source": [
    "data.head()"
   ]
  },
  {
   "cell_type": "code",
   "execution_count": 13,
   "id": "38a2bd87",
   "metadata": {},
   "outputs": [],
   "source": [
    "data.drop('policy_bind_date',axis=1,inplace=True)"
   ]
  },
  {
   "cell_type": "code",
   "execution_count": 14,
   "id": "bb4f73fd",
   "metadata": {},
   "outputs": [
    {
     "data": {
      "text/plain": [
       "(1000, 38)"
      ]
     },
     "execution_count": 14,
     "metadata": {},
     "output_type": "execute_result"
    }
   ],
   "source": [
    "data.shape"
   ]
  },
  {
   "cell_type": "code",
   "execution_count": 15,
   "id": "3f3b31b0",
   "metadata": {},
   "outputs": [
    {
     "data": {
      "text/plain": [
       "3"
      ]
     },
     "execution_count": 15,
     "metadata": {},
     "output_type": "execute_result"
    }
   ],
   "source": [
    "data['policy_state'].nunique()"
   ]
  },
  {
   "cell_type": "code",
   "execution_count": 16,
   "id": "3f083368",
   "metadata": {},
   "outputs": [
    {
     "data": {
      "text/plain": [
       "OH    352\n",
       "IL    338\n",
       "IN    310\n",
       "Name: policy_state, dtype: int64"
      ]
     },
     "execution_count": 16,
     "metadata": {},
     "output_type": "execute_result"
    }
   ],
   "source": [
    "data['policy_state'].value_counts()"
   ]
  },
  {
   "cell_type": "code",
   "execution_count": 17,
   "id": "05317489",
   "metadata": {},
   "outputs": [],
   "source": [
    "from sklearn.preprocessing import LabelEncoder"
   ]
  },
  {
   "cell_type": "code",
   "execution_count": 18,
   "id": "0e07adbf",
   "metadata": {},
   "outputs": [],
   "source": [
    "le = LabelEncoder()"
   ]
  },
  {
   "cell_type": "code",
   "execution_count": 19,
   "id": "8f1fcff2",
   "metadata": {},
   "outputs": [],
   "source": [
    "data['policy_state'] = le.fit_transform(data['policy_state'])"
   ]
  },
  {
   "cell_type": "code",
   "execution_count": 20,
   "id": "7a2279e9",
   "metadata": {},
   "outputs": [
    {
     "data": {
      "text/html": [
       "<div>\n",
       "<style scoped>\n",
       "    .dataframe tbody tr th:only-of-type {\n",
       "        vertical-align: middle;\n",
       "    }\n",
       "\n",
       "    .dataframe tbody tr th {\n",
       "        vertical-align: top;\n",
       "    }\n",
       "\n",
       "    .dataframe thead th {\n",
       "        text-align: right;\n",
       "    }\n",
       "</style>\n",
       "<table border=\"1\" class=\"dataframe\">\n",
       "  <thead>\n",
       "    <tr style=\"text-align: right;\">\n",
       "      <th></th>\n",
       "      <th>months_as_customer</th>\n",
       "      <th>age</th>\n",
       "      <th>policy_state</th>\n",
       "      <th>policy_csl</th>\n",
       "      <th>policy_deductable</th>\n",
       "      <th>policy_annual_premium</th>\n",
       "      <th>umbrella_limit</th>\n",
       "      <th>insured_zip</th>\n",
       "      <th>insured_sex</th>\n",
       "      <th>insured_education_level</th>\n",
       "      <th>...</th>\n",
       "      <th>police_report_available</th>\n",
       "      <th>total_claim_amount</th>\n",
       "      <th>injury_claim</th>\n",
       "      <th>property_claim</th>\n",
       "      <th>vehicle_claim</th>\n",
       "      <th>auto_make</th>\n",
       "      <th>auto_model</th>\n",
       "      <th>auto_year</th>\n",
       "      <th>fraud_reported</th>\n",
       "      <th>policy_bind_year</th>\n",
       "    </tr>\n",
       "    <tr>\n",
       "      <th>policy_number</th>\n",
       "      <th></th>\n",
       "      <th></th>\n",
       "      <th></th>\n",
       "      <th></th>\n",
       "      <th></th>\n",
       "      <th></th>\n",
       "      <th></th>\n",
       "      <th></th>\n",
       "      <th></th>\n",
       "      <th></th>\n",
       "      <th></th>\n",
       "      <th></th>\n",
       "      <th></th>\n",
       "      <th></th>\n",
       "      <th></th>\n",
       "      <th></th>\n",
       "      <th></th>\n",
       "      <th></th>\n",
       "      <th></th>\n",
       "      <th></th>\n",
       "      <th></th>\n",
       "    </tr>\n",
       "  </thead>\n",
       "  <tbody>\n",
       "    <tr>\n",
       "      <th>521585</th>\n",
       "      <td>328</td>\n",
       "      <td>48</td>\n",
       "      <td>2</td>\n",
       "      <td>250/500</td>\n",
       "      <td>1000</td>\n",
       "      <td>1406.91</td>\n",
       "      <td>0</td>\n",
       "      <td>466132</td>\n",
       "      <td>MALE</td>\n",
       "      <td>MD</td>\n",
       "      <td>...</td>\n",
       "      <td>YES</td>\n",
       "      <td>71610</td>\n",
       "      <td>6510</td>\n",
       "      <td>13020</td>\n",
       "      <td>52080</td>\n",
       "      <td>Saab</td>\n",
       "      <td>92x</td>\n",
       "      <td>2004</td>\n",
       "      <td>Y</td>\n",
       "      <td>2014</td>\n",
       "    </tr>\n",
       "    <tr>\n",
       "      <th>342868</th>\n",
       "      <td>228</td>\n",
       "      <td>42</td>\n",
       "      <td>1</td>\n",
       "      <td>250/500</td>\n",
       "      <td>2000</td>\n",
       "      <td>1197.22</td>\n",
       "      <td>5000000</td>\n",
       "      <td>468176</td>\n",
       "      <td>MALE</td>\n",
       "      <td>MD</td>\n",
       "      <td>...</td>\n",
       "      <td>?</td>\n",
       "      <td>5070</td>\n",
       "      <td>780</td>\n",
       "      <td>780</td>\n",
       "      <td>3510</td>\n",
       "      <td>Mercedes</td>\n",
       "      <td>E400</td>\n",
       "      <td>2007</td>\n",
       "      <td>Y</td>\n",
       "      <td>2006</td>\n",
       "    </tr>\n",
       "    <tr>\n",
       "      <th>687698</th>\n",
       "      <td>134</td>\n",
       "      <td>29</td>\n",
       "      <td>2</td>\n",
       "      <td>100/300</td>\n",
       "      <td>2000</td>\n",
       "      <td>1413.14</td>\n",
       "      <td>5000000</td>\n",
       "      <td>430632</td>\n",
       "      <td>FEMALE</td>\n",
       "      <td>PhD</td>\n",
       "      <td>...</td>\n",
       "      <td>NO</td>\n",
       "      <td>34650</td>\n",
       "      <td>7700</td>\n",
       "      <td>3850</td>\n",
       "      <td>23100</td>\n",
       "      <td>Dodge</td>\n",
       "      <td>RAM</td>\n",
       "      <td>2007</td>\n",
       "      <td>N</td>\n",
       "      <td>2000</td>\n",
       "    </tr>\n",
       "    <tr>\n",
       "      <th>227811</th>\n",
       "      <td>256</td>\n",
       "      <td>41</td>\n",
       "      <td>0</td>\n",
       "      <td>250/500</td>\n",
       "      <td>2000</td>\n",
       "      <td>1415.74</td>\n",
       "      <td>6000000</td>\n",
       "      <td>608117</td>\n",
       "      <td>FEMALE</td>\n",
       "      <td>PhD</td>\n",
       "      <td>...</td>\n",
       "      <td>NO</td>\n",
       "      <td>63400</td>\n",
       "      <td>6340</td>\n",
       "      <td>6340</td>\n",
       "      <td>50720</td>\n",
       "      <td>Chevrolet</td>\n",
       "      <td>Tahoe</td>\n",
       "      <td>2014</td>\n",
       "      <td>Y</td>\n",
       "      <td>1990</td>\n",
       "    </tr>\n",
       "    <tr>\n",
       "      <th>367455</th>\n",
       "      <td>228</td>\n",
       "      <td>44</td>\n",
       "      <td>0</td>\n",
       "      <td>500/1000</td>\n",
       "      <td>1000</td>\n",
       "      <td>1583.91</td>\n",
       "      <td>6000000</td>\n",
       "      <td>610706</td>\n",
       "      <td>MALE</td>\n",
       "      <td>Associate</td>\n",
       "      <td>...</td>\n",
       "      <td>NO</td>\n",
       "      <td>6500</td>\n",
       "      <td>1300</td>\n",
       "      <td>650</td>\n",
       "      <td>4550</td>\n",
       "      <td>Accura</td>\n",
       "      <td>RSX</td>\n",
       "      <td>2009</td>\n",
       "      <td>N</td>\n",
       "      <td>2014</td>\n",
       "    </tr>\n",
       "  </tbody>\n",
       "</table>\n",
       "<p>5 rows × 38 columns</p>\n",
       "</div>"
      ],
      "text/plain": [
       "               months_as_customer  age  policy_state policy_csl  \\\n",
       "policy_number                                                     \n",
       "521585                        328   48             2    250/500   \n",
       "342868                        228   42             1    250/500   \n",
       "687698                        134   29             2    100/300   \n",
       "227811                        256   41             0    250/500   \n",
       "367455                        228   44             0   500/1000   \n",
       "\n",
       "               policy_deductable  policy_annual_premium  umbrella_limit  \\\n",
       "policy_number                                                             \n",
       "521585                      1000                1406.91               0   \n",
       "342868                      2000                1197.22         5000000   \n",
       "687698                      2000                1413.14         5000000   \n",
       "227811                      2000                1415.74         6000000   \n",
       "367455                      1000                1583.91         6000000   \n",
       "\n",
       "               insured_zip insured_sex insured_education_level  ...  \\\n",
       "policy_number                                                   ...   \n",
       "521585              466132        MALE                      MD  ...   \n",
       "342868              468176        MALE                      MD  ...   \n",
       "687698              430632      FEMALE                     PhD  ...   \n",
       "227811              608117      FEMALE                     PhD  ...   \n",
       "367455              610706        MALE               Associate  ...   \n",
       "\n",
       "              police_report_available total_claim_amount injury_claim  \\\n",
       "policy_number                                                           \n",
       "521585                            YES              71610         6510   \n",
       "342868                              ?               5070          780   \n",
       "687698                             NO              34650         7700   \n",
       "227811                             NO              63400         6340   \n",
       "367455                             NO               6500         1300   \n",
       "\n",
       "               property_claim  vehicle_claim  auto_make auto_model auto_year  \\\n",
       "policy_number                                                                  \n",
       "521585                  13020          52080       Saab        92x      2004   \n",
       "342868                    780           3510   Mercedes       E400      2007   \n",
       "687698                   3850          23100      Dodge        RAM      2007   \n",
       "227811                   6340          50720  Chevrolet      Tahoe      2014   \n",
       "367455                    650           4550     Accura        RSX      2009   \n",
       "\n",
       "              fraud_reported policy_bind_year  \n",
       "policy_number                                  \n",
       "521585                     Y             2014  \n",
       "342868                     Y             2006  \n",
       "687698                     N             2000  \n",
       "227811                     Y             1990  \n",
       "367455                     N             2014  \n",
       "\n",
       "[5 rows x 38 columns]"
      ]
     },
     "execution_count": 20,
     "metadata": {},
     "output_type": "execute_result"
    }
   ],
   "source": [
    "data.head()"
   ]
  },
  {
   "cell_type": "code",
   "execution_count": 21,
   "id": "00d9ee08",
   "metadata": {},
   "outputs": [
    {
     "data": {
      "text/plain": [
       "3"
      ]
     },
     "execution_count": 21,
     "metadata": {},
     "output_type": "execute_result"
    }
   ],
   "source": [
    "data['policy_csl'].nunique()"
   ]
  },
  {
   "cell_type": "code",
   "execution_count": 22,
   "id": "b3fc4325",
   "metadata": {},
   "outputs": [],
   "source": [
    "data['policy_csl'] = le.fit_transform(data['policy_csl'])"
   ]
  },
  {
   "cell_type": "code",
   "execution_count": 23,
   "id": "540e6d80",
   "metadata": {},
   "outputs": [
    {
     "data": {
      "text/html": [
       "<div>\n",
       "<style scoped>\n",
       "    .dataframe tbody tr th:only-of-type {\n",
       "        vertical-align: middle;\n",
       "    }\n",
       "\n",
       "    .dataframe tbody tr th {\n",
       "        vertical-align: top;\n",
       "    }\n",
       "\n",
       "    .dataframe thead th {\n",
       "        text-align: right;\n",
       "    }\n",
       "</style>\n",
       "<table border=\"1\" class=\"dataframe\">\n",
       "  <thead>\n",
       "    <tr style=\"text-align: right;\">\n",
       "      <th></th>\n",
       "      <th>months_as_customer</th>\n",
       "      <th>age</th>\n",
       "      <th>policy_state</th>\n",
       "      <th>policy_csl</th>\n",
       "      <th>policy_deductable</th>\n",
       "      <th>policy_annual_premium</th>\n",
       "      <th>umbrella_limit</th>\n",
       "      <th>insured_zip</th>\n",
       "      <th>insured_sex</th>\n",
       "      <th>insured_education_level</th>\n",
       "      <th>...</th>\n",
       "      <th>police_report_available</th>\n",
       "      <th>total_claim_amount</th>\n",
       "      <th>injury_claim</th>\n",
       "      <th>property_claim</th>\n",
       "      <th>vehicle_claim</th>\n",
       "      <th>auto_make</th>\n",
       "      <th>auto_model</th>\n",
       "      <th>auto_year</th>\n",
       "      <th>fraud_reported</th>\n",
       "      <th>policy_bind_year</th>\n",
       "    </tr>\n",
       "    <tr>\n",
       "      <th>policy_number</th>\n",
       "      <th></th>\n",
       "      <th></th>\n",
       "      <th></th>\n",
       "      <th></th>\n",
       "      <th></th>\n",
       "      <th></th>\n",
       "      <th></th>\n",
       "      <th></th>\n",
       "      <th></th>\n",
       "      <th></th>\n",
       "      <th></th>\n",
       "      <th></th>\n",
       "      <th></th>\n",
       "      <th></th>\n",
       "      <th></th>\n",
       "      <th></th>\n",
       "      <th></th>\n",
       "      <th></th>\n",
       "      <th></th>\n",
       "      <th></th>\n",
       "      <th></th>\n",
       "    </tr>\n",
       "  </thead>\n",
       "  <tbody>\n",
       "    <tr>\n",
       "      <th>521585</th>\n",
       "      <td>328</td>\n",
       "      <td>48</td>\n",
       "      <td>2</td>\n",
       "      <td>1</td>\n",
       "      <td>1000</td>\n",
       "      <td>1406.91</td>\n",
       "      <td>0</td>\n",
       "      <td>466132</td>\n",
       "      <td>MALE</td>\n",
       "      <td>MD</td>\n",
       "      <td>...</td>\n",
       "      <td>YES</td>\n",
       "      <td>71610</td>\n",
       "      <td>6510</td>\n",
       "      <td>13020</td>\n",
       "      <td>52080</td>\n",
       "      <td>Saab</td>\n",
       "      <td>92x</td>\n",
       "      <td>2004</td>\n",
       "      <td>Y</td>\n",
       "      <td>2014</td>\n",
       "    </tr>\n",
       "    <tr>\n",
       "      <th>342868</th>\n",
       "      <td>228</td>\n",
       "      <td>42</td>\n",
       "      <td>1</td>\n",
       "      <td>1</td>\n",
       "      <td>2000</td>\n",
       "      <td>1197.22</td>\n",
       "      <td>5000000</td>\n",
       "      <td>468176</td>\n",
       "      <td>MALE</td>\n",
       "      <td>MD</td>\n",
       "      <td>...</td>\n",
       "      <td>?</td>\n",
       "      <td>5070</td>\n",
       "      <td>780</td>\n",
       "      <td>780</td>\n",
       "      <td>3510</td>\n",
       "      <td>Mercedes</td>\n",
       "      <td>E400</td>\n",
       "      <td>2007</td>\n",
       "      <td>Y</td>\n",
       "      <td>2006</td>\n",
       "    </tr>\n",
       "    <tr>\n",
       "      <th>687698</th>\n",
       "      <td>134</td>\n",
       "      <td>29</td>\n",
       "      <td>2</td>\n",
       "      <td>0</td>\n",
       "      <td>2000</td>\n",
       "      <td>1413.14</td>\n",
       "      <td>5000000</td>\n",
       "      <td>430632</td>\n",
       "      <td>FEMALE</td>\n",
       "      <td>PhD</td>\n",
       "      <td>...</td>\n",
       "      <td>NO</td>\n",
       "      <td>34650</td>\n",
       "      <td>7700</td>\n",
       "      <td>3850</td>\n",
       "      <td>23100</td>\n",
       "      <td>Dodge</td>\n",
       "      <td>RAM</td>\n",
       "      <td>2007</td>\n",
       "      <td>N</td>\n",
       "      <td>2000</td>\n",
       "    </tr>\n",
       "    <tr>\n",
       "      <th>227811</th>\n",
       "      <td>256</td>\n",
       "      <td>41</td>\n",
       "      <td>0</td>\n",
       "      <td>1</td>\n",
       "      <td>2000</td>\n",
       "      <td>1415.74</td>\n",
       "      <td>6000000</td>\n",
       "      <td>608117</td>\n",
       "      <td>FEMALE</td>\n",
       "      <td>PhD</td>\n",
       "      <td>...</td>\n",
       "      <td>NO</td>\n",
       "      <td>63400</td>\n",
       "      <td>6340</td>\n",
       "      <td>6340</td>\n",
       "      <td>50720</td>\n",
       "      <td>Chevrolet</td>\n",
       "      <td>Tahoe</td>\n",
       "      <td>2014</td>\n",
       "      <td>Y</td>\n",
       "      <td>1990</td>\n",
       "    </tr>\n",
       "    <tr>\n",
       "      <th>367455</th>\n",
       "      <td>228</td>\n",
       "      <td>44</td>\n",
       "      <td>0</td>\n",
       "      <td>2</td>\n",
       "      <td>1000</td>\n",
       "      <td>1583.91</td>\n",
       "      <td>6000000</td>\n",
       "      <td>610706</td>\n",
       "      <td>MALE</td>\n",
       "      <td>Associate</td>\n",
       "      <td>...</td>\n",
       "      <td>NO</td>\n",
       "      <td>6500</td>\n",
       "      <td>1300</td>\n",
       "      <td>650</td>\n",
       "      <td>4550</td>\n",
       "      <td>Accura</td>\n",
       "      <td>RSX</td>\n",
       "      <td>2009</td>\n",
       "      <td>N</td>\n",
       "      <td>2014</td>\n",
       "    </tr>\n",
       "  </tbody>\n",
       "</table>\n",
       "<p>5 rows × 38 columns</p>\n",
       "</div>"
      ],
      "text/plain": [
       "               months_as_customer  age  policy_state  policy_csl  \\\n",
       "policy_number                                                      \n",
       "521585                        328   48             2           1   \n",
       "342868                        228   42             1           1   \n",
       "687698                        134   29             2           0   \n",
       "227811                        256   41             0           1   \n",
       "367455                        228   44             0           2   \n",
       "\n",
       "               policy_deductable  policy_annual_premium  umbrella_limit  \\\n",
       "policy_number                                                             \n",
       "521585                      1000                1406.91               0   \n",
       "342868                      2000                1197.22         5000000   \n",
       "687698                      2000                1413.14         5000000   \n",
       "227811                      2000                1415.74         6000000   \n",
       "367455                      1000                1583.91         6000000   \n",
       "\n",
       "               insured_zip insured_sex insured_education_level  ...  \\\n",
       "policy_number                                                   ...   \n",
       "521585              466132        MALE                      MD  ...   \n",
       "342868              468176        MALE                      MD  ...   \n",
       "687698              430632      FEMALE                     PhD  ...   \n",
       "227811              608117      FEMALE                     PhD  ...   \n",
       "367455              610706        MALE               Associate  ...   \n",
       "\n",
       "              police_report_available total_claim_amount injury_claim  \\\n",
       "policy_number                                                           \n",
       "521585                            YES              71610         6510   \n",
       "342868                              ?               5070          780   \n",
       "687698                             NO              34650         7700   \n",
       "227811                             NO              63400         6340   \n",
       "367455                             NO               6500         1300   \n",
       "\n",
       "               property_claim  vehicle_claim  auto_make auto_model auto_year  \\\n",
       "policy_number                                                                  \n",
       "521585                  13020          52080       Saab        92x      2004   \n",
       "342868                    780           3510   Mercedes       E400      2007   \n",
       "687698                   3850          23100      Dodge        RAM      2007   \n",
       "227811                   6340          50720  Chevrolet      Tahoe      2014   \n",
       "367455                    650           4550     Accura        RSX      2009   \n",
       "\n",
       "              fraud_reported policy_bind_year  \n",
       "policy_number                                  \n",
       "521585                     Y             2014  \n",
       "342868                     Y             2006  \n",
       "687698                     N             2000  \n",
       "227811                     Y             1990  \n",
       "367455                     N             2014  \n",
       "\n",
       "[5 rows x 38 columns]"
      ]
     },
     "execution_count": 23,
     "metadata": {},
     "output_type": "execute_result"
    }
   ],
   "source": [
    "data.head()"
   ]
  },
  {
   "cell_type": "code",
   "execution_count": 24,
   "id": "262fee31",
   "metadata": {},
   "outputs": [
    {
     "data": {
      "text/plain": [
       "2"
      ]
     },
     "execution_count": 24,
     "metadata": {},
     "output_type": "execute_result"
    }
   ],
   "source": [
    "data['insured_sex'].nunique()"
   ]
  },
  {
   "cell_type": "code",
   "execution_count": 25,
   "id": "e0f4e57b",
   "metadata": {},
   "outputs": [],
   "source": [
    "data['insured_sex'] = le.fit_transform(data['insured_sex'])"
   ]
  },
  {
   "cell_type": "code",
   "execution_count": 26,
   "id": "aae516e2",
   "metadata": {},
   "outputs": [
    {
     "data": {
      "text/plain": [
       "7"
      ]
     },
     "execution_count": 26,
     "metadata": {},
     "output_type": "execute_result"
    }
   ],
   "source": [
    "data['insured_education_level'].nunique()"
   ]
  },
  {
   "cell_type": "code",
   "execution_count": 27,
   "id": "46530399",
   "metadata": {},
   "outputs": [
    {
     "data": {
      "text/plain": [
       "JD             161\n",
       "High School    160\n",
       "Associate      145\n",
       "MD             144\n",
       "Masters        143\n",
       "PhD            125\n",
       "College        122\n",
       "Name: insured_education_level, dtype: int64"
      ]
     },
     "execution_count": 27,
     "metadata": {},
     "output_type": "execute_result"
    }
   ],
   "source": [
    "data['insured_education_level'].value_counts()"
   ]
  },
  {
   "cell_type": "code",
   "execution_count": 28,
   "id": "10f8cf94",
   "metadata": {},
   "outputs": [],
   "source": [
    "from sklearn.preprocessing import OrdinalEncoder"
   ]
  },
  {
   "cell_type": "code",
   "execution_count": 29,
   "id": "9c41cd2e",
   "metadata": {},
   "outputs": [],
   "source": [
    "oe = OrdinalEncoder(categories=[['High School','College','JD','Associate','MD','Masters','PhD']])"
   ]
  },
  {
   "cell_type": "code",
   "execution_count": 30,
   "id": "2674ca0f",
   "metadata": {},
   "outputs": [],
   "source": [
    "data['insured_education_level'] = oe.fit_transform(data['insured_education_level'].values.reshape(-1,1))"
   ]
  },
  {
   "cell_type": "code",
   "execution_count": 31,
   "id": "c88aa21b",
   "metadata": {},
   "outputs": [
    {
     "data": {
      "text/html": [
       "<div>\n",
       "<style scoped>\n",
       "    .dataframe tbody tr th:only-of-type {\n",
       "        vertical-align: middle;\n",
       "    }\n",
       "\n",
       "    .dataframe tbody tr th {\n",
       "        vertical-align: top;\n",
       "    }\n",
       "\n",
       "    .dataframe thead th {\n",
       "        text-align: right;\n",
       "    }\n",
       "</style>\n",
       "<table border=\"1\" class=\"dataframe\">\n",
       "  <thead>\n",
       "    <tr style=\"text-align: right;\">\n",
       "      <th></th>\n",
       "      <th>months_as_customer</th>\n",
       "      <th>age</th>\n",
       "      <th>policy_state</th>\n",
       "      <th>policy_csl</th>\n",
       "      <th>policy_deductable</th>\n",
       "      <th>policy_annual_premium</th>\n",
       "      <th>umbrella_limit</th>\n",
       "      <th>insured_zip</th>\n",
       "      <th>insured_sex</th>\n",
       "      <th>insured_education_level</th>\n",
       "      <th>...</th>\n",
       "      <th>police_report_available</th>\n",
       "      <th>total_claim_amount</th>\n",
       "      <th>injury_claim</th>\n",
       "      <th>property_claim</th>\n",
       "      <th>vehicle_claim</th>\n",
       "      <th>auto_make</th>\n",
       "      <th>auto_model</th>\n",
       "      <th>auto_year</th>\n",
       "      <th>fraud_reported</th>\n",
       "      <th>policy_bind_year</th>\n",
       "    </tr>\n",
       "    <tr>\n",
       "      <th>policy_number</th>\n",
       "      <th></th>\n",
       "      <th></th>\n",
       "      <th></th>\n",
       "      <th></th>\n",
       "      <th></th>\n",
       "      <th></th>\n",
       "      <th></th>\n",
       "      <th></th>\n",
       "      <th></th>\n",
       "      <th></th>\n",
       "      <th></th>\n",
       "      <th></th>\n",
       "      <th></th>\n",
       "      <th></th>\n",
       "      <th></th>\n",
       "      <th></th>\n",
       "      <th></th>\n",
       "      <th></th>\n",
       "      <th></th>\n",
       "      <th></th>\n",
       "      <th></th>\n",
       "    </tr>\n",
       "  </thead>\n",
       "  <tbody>\n",
       "    <tr>\n",
       "      <th>521585</th>\n",
       "      <td>328</td>\n",
       "      <td>48</td>\n",
       "      <td>2</td>\n",
       "      <td>1</td>\n",
       "      <td>1000</td>\n",
       "      <td>1406.91</td>\n",
       "      <td>0</td>\n",
       "      <td>466132</td>\n",
       "      <td>1</td>\n",
       "      <td>4.0</td>\n",
       "      <td>...</td>\n",
       "      <td>YES</td>\n",
       "      <td>71610</td>\n",
       "      <td>6510</td>\n",
       "      <td>13020</td>\n",
       "      <td>52080</td>\n",
       "      <td>Saab</td>\n",
       "      <td>92x</td>\n",
       "      <td>2004</td>\n",
       "      <td>Y</td>\n",
       "      <td>2014</td>\n",
       "    </tr>\n",
       "    <tr>\n",
       "      <th>342868</th>\n",
       "      <td>228</td>\n",
       "      <td>42</td>\n",
       "      <td>1</td>\n",
       "      <td>1</td>\n",
       "      <td>2000</td>\n",
       "      <td>1197.22</td>\n",
       "      <td>5000000</td>\n",
       "      <td>468176</td>\n",
       "      <td>1</td>\n",
       "      <td>4.0</td>\n",
       "      <td>...</td>\n",
       "      <td>?</td>\n",
       "      <td>5070</td>\n",
       "      <td>780</td>\n",
       "      <td>780</td>\n",
       "      <td>3510</td>\n",
       "      <td>Mercedes</td>\n",
       "      <td>E400</td>\n",
       "      <td>2007</td>\n",
       "      <td>Y</td>\n",
       "      <td>2006</td>\n",
       "    </tr>\n",
       "    <tr>\n",
       "      <th>687698</th>\n",
       "      <td>134</td>\n",
       "      <td>29</td>\n",
       "      <td>2</td>\n",
       "      <td>0</td>\n",
       "      <td>2000</td>\n",
       "      <td>1413.14</td>\n",
       "      <td>5000000</td>\n",
       "      <td>430632</td>\n",
       "      <td>0</td>\n",
       "      <td>6.0</td>\n",
       "      <td>...</td>\n",
       "      <td>NO</td>\n",
       "      <td>34650</td>\n",
       "      <td>7700</td>\n",
       "      <td>3850</td>\n",
       "      <td>23100</td>\n",
       "      <td>Dodge</td>\n",
       "      <td>RAM</td>\n",
       "      <td>2007</td>\n",
       "      <td>N</td>\n",
       "      <td>2000</td>\n",
       "    </tr>\n",
       "    <tr>\n",
       "      <th>227811</th>\n",
       "      <td>256</td>\n",
       "      <td>41</td>\n",
       "      <td>0</td>\n",
       "      <td>1</td>\n",
       "      <td>2000</td>\n",
       "      <td>1415.74</td>\n",
       "      <td>6000000</td>\n",
       "      <td>608117</td>\n",
       "      <td>0</td>\n",
       "      <td>6.0</td>\n",
       "      <td>...</td>\n",
       "      <td>NO</td>\n",
       "      <td>63400</td>\n",
       "      <td>6340</td>\n",
       "      <td>6340</td>\n",
       "      <td>50720</td>\n",
       "      <td>Chevrolet</td>\n",
       "      <td>Tahoe</td>\n",
       "      <td>2014</td>\n",
       "      <td>Y</td>\n",
       "      <td>1990</td>\n",
       "    </tr>\n",
       "    <tr>\n",
       "      <th>367455</th>\n",
       "      <td>228</td>\n",
       "      <td>44</td>\n",
       "      <td>0</td>\n",
       "      <td>2</td>\n",
       "      <td>1000</td>\n",
       "      <td>1583.91</td>\n",
       "      <td>6000000</td>\n",
       "      <td>610706</td>\n",
       "      <td>1</td>\n",
       "      <td>3.0</td>\n",
       "      <td>...</td>\n",
       "      <td>NO</td>\n",
       "      <td>6500</td>\n",
       "      <td>1300</td>\n",
       "      <td>650</td>\n",
       "      <td>4550</td>\n",
       "      <td>Accura</td>\n",
       "      <td>RSX</td>\n",
       "      <td>2009</td>\n",
       "      <td>N</td>\n",
       "      <td>2014</td>\n",
       "    </tr>\n",
       "  </tbody>\n",
       "</table>\n",
       "<p>5 rows × 38 columns</p>\n",
       "</div>"
      ],
      "text/plain": [
       "               months_as_customer  age  policy_state  policy_csl  \\\n",
       "policy_number                                                      \n",
       "521585                        328   48             2           1   \n",
       "342868                        228   42             1           1   \n",
       "687698                        134   29             2           0   \n",
       "227811                        256   41             0           1   \n",
       "367455                        228   44             0           2   \n",
       "\n",
       "               policy_deductable  policy_annual_premium  umbrella_limit  \\\n",
       "policy_number                                                             \n",
       "521585                      1000                1406.91               0   \n",
       "342868                      2000                1197.22         5000000   \n",
       "687698                      2000                1413.14         5000000   \n",
       "227811                      2000                1415.74         6000000   \n",
       "367455                      1000                1583.91         6000000   \n",
       "\n",
       "               insured_zip  insured_sex  insured_education_level  ...  \\\n",
       "policy_number                                                     ...   \n",
       "521585              466132            1                      4.0  ...   \n",
       "342868              468176            1                      4.0  ...   \n",
       "687698              430632            0                      6.0  ...   \n",
       "227811              608117            0                      6.0  ...   \n",
       "367455              610706            1                      3.0  ...   \n",
       "\n",
       "              police_report_available total_claim_amount injury_claim  \\\n",
       "policy_number                                                           \n",
       "521585                            YES              71610         6510   \n",
       "342868                              ?               5070          780   \n",
       "687698                             NO              34650         7700   \n",
       "227811                             NO              63400         6340   \n",
       "367455                             NO               6500         1300   \n",
       "\n",
       "               property_claim  vehicle_claim  auto_make auto_model auto_year  \\\n",
       "policy_number                                                                  \n",
       "521585                  13020          52080       Saab        92x      2004   \n",
       "342868                    780           3510   Mercedes       E400      2007   \n",
       "687698                   3850          23100      Dodge        RAM      2007   \n",
       "227811                   6340          50720  Chevrolet      Tahoe      2014   \n",
       "367455                    650           4550     Accura        RSX      2009   \n",
       "\n",
       "              fraud_reported policy_bind_year  \n",
       "policy_number                                  \n",
       "521585                     Y             2014  \n",
       "342868                     Y             2006  \n",
       "687698                     N             2000  \n",
       "227811                     Y             1990  \n",
       "367455                     N             2014  \n",
       "\n",
       "[5 rows x 38 columns]"
      ]
     },
     "execution_count": 31,
     "metadata": {},
     "output_type": "execute_result"
    }
   ],
   "source": [
    "data.head()"
   ]
  },
  {
   "cell_type": "code",
   "execution_count": 32,
   "id": "df4662a2",
   "metadata": {},
   "outputs": [
    {
     "name": "stdout",
     "output_type": "stream",
     "text": [
      "<class 'pandas.core.frame.DataFrame'>\n",
      "Int64Index: 1000 entries, 521585 to 556080\n",
      "Data columns (total 38 columns):\n",
      " #   Column                       Non-Null Count  Dtype  \n",
      "---  ------                       --------------  -----  \n",
      " 0   months_as_customer           1000 non-null   int64  \n",
      " 1   age                          1000 non-null   int64  \n",
      " 2   policy_state                 1000 non-null   int32  \n",
      " 3   policy_csl                   1000 non-null   int32  \n",
      " 4   policy_deductable            1000 non-null   int64  \n",
      " 5   policy_annual_premium        1000 non-null   float64\n",
      " 6   umbrella_limit               1000 non-null   int64  \n",
      " 7   insured_zip                  1000 non-null   int64  \n",
      " 8   insured_sex                  1000 non-null   int32  \n",
      " 9   insured_education_level      1000 non-null   float64\n",
      " 10  insured_occupation           1000 non-null   object \n",
      " 11  insured_hobbies              1000 non-null   object \n",
      " 12  insured_relationship         1000 non-null   object \n",
      " 13  capital-gains                1000 non-null   int64  \n",
      " 14  capital-loss                 1000 non-null   int64  \n",
      " 15  incident_date                1000 non-null   object \n",
      " 16  incident_type                1000 non-null   object \n",
      " 17  collision_type               1000 non-null   object \n",
      " 18  incident_severity            1000 non-null   object \n",
      " 19  authorities_contacted        1000 non-null   object \n",
      " 20  incident_state               1000 non-null   object \n",
      " 21  incident_city                1000 non-null   object \n",
      " 22  incident_location            1000 non-null   object \n",
      " 23  incident_hour_of_the_day     1000 non-null   int64  \n",
      " 24  number_of_vehicles_involved  1000 non-null   int64  \n",
      " 25  property_damage              1000 non-null   object \n",
      " 26  bodily_injuries              1000 non-null   int64  \n",
      " 27  witnesses                    1000 non-null   int64  \n",
      " 28  police_report_available      1000 non-null   object \n",
      " 29  total_claim_amount           1000 non-null   int64  \n",
      " 30  injury_claim                 1000 non-null   int64  \n",
      " 31  property_claim               1000 non-null   int64  \n",
      " 32  vehicle_claim                1000 non-null   int64  \n",
      " 33  auto_make                    1000 non-null   object \n",
      " 34  auto_model                   1000 non-null   object \n",
      " 35  auto_year                    1000 non-null   int64  \n",
      " 36  fraud_reported               1000 non-null   object \n",
      " 37  policy_bind_year             1000 non-null   int64  \n",
      "dtypes: float64(2), int32(3), int64(17), object(16)\n",
      "memory usage: 293.0+ KB\n"
     ]
    }
   ],
   "source": [
    "data.info()"
   ]
  },
  {
   "cell_type": "code",
   "execution_count": 33,
   "id": "e51ae206",
   "metadata": {},
   "outputs": [
    {
     "data": {
      "text/plain": [
       "14"
      ]
     },
     "execution_count": 33,
     "metadata": {},
     "output_type": "execute_result"
    }
   ],
   "source": [
    "data['insured_occupation'].nunique()"
   ]
  },
  {
   "cell_type": "code",
   "execution_count": 34,
   "id": "4249bdef",
   "metadata": {},
   "outputs": [
    {
     "data": {
      "text/plain": [
       "machine-op-inspct    93\n",
       "prof-specialty       85\n",
       "tech-support         78\n",
       "sales                76\n",
       "exec-managerial      76\n",
       "craft-repair         74\n",
       "transport-moving     72\n",
       "other-service        71\n",
       "priv-house-serv      71\n",
       "armed-forces         69\n",
       "adm-clerical         65\n",
       "protective-serv      63\n",
       "handlers-cleaners    54\n",
       "farming-fishing      53\n",
       "Name: insured_occupation, dtype: int64"
      ]
     },
     "execution_count": 34,
     "metadata": {},
     "output_type": "execute_result"
    }
   ],
   "source": [
    "data['insured_occupation'].value_counts()"
   ]
  },
  {
   "cell_type": "code",
   "execution_count": 35,
   "id": "095f064e",
   "metadata": {},
   "outputs": [],
   "source": [
    "data['insured_occupation'] = le.fit_transform(data['insured_occupation'])"
   ]
  },
  {
   "cell_type": "code",
   "execution_count": 36,
   "id": "c7e7414f",
   "metadata": {},
   "outputs": [
    {
     "data": {
      "text/plain": [
       "20"
      ]
     },
     "execution_count": 36,
     "metadata": {},
     "output_type": "execute_result"
    }
   ],
   "source": [
    "data['insured_hobbies'].nunique()"
   ]
  },
  {
   "cell_type": "code",
   "execution_count": 37,
   "id": "d2acaefc",
   "metadata": {},
   "outputs": [],
   "source": [
    "data['insured_hobbies'] = le.fit_transform(data['insured_hobbies'])"
   ]
  },
  {
   "cell_type": "code",
   "execution_count": 38,
   "id": "fa1f57f8",
   "metadata": {},
   "outputs": [
    {
     "data": {
      "text/plain": [
       "6"
      ]
     },
     "execution_count": 38,
     "metadata": {},
     "output_type": "execute_result"
    }
   ],
   "source": [
    "data['insured_relationship'].nunique()"
   ]
  },
  {
   "cell_type": "code",
   "execution_count": 39,
   "id": "3fd845c7",
   "metadata": {},
   "outputs": [
    {
     "data": {
      "text/plain": [
       "own-child         183\n",
       "other-relative    177\n",
       "not-in-family     174\n",
       "husband           170\n",
       "wife              155\n",
       "unmarried         141\n",
       "Name: insured_relationship, dtype: int64"
      ]
     },
     "execution_count": 39,
     "metadata": {},
     "output_type": "execute_result"
    }
   ],
   "source": [
    "data['insured_relationship'].value_counts()"
   ]
  },
  {
   "cell_type": "code",
   "execution_count": 40,
   "id": "77f8657b",
   "metadata": {},
   "outputs": [],
   "source": [
    "data['insured_relationship'] = le.fit_transform(data['insured_relationship'])"
   ]
  },
  {
   "cell_type": "code",
   "execution_count": 41,
   "id": "0580d6f7",
   "metadata": {},
   "outputs": [
    {
     "name": "stderr",
     "output_type": "stream",
     "text": [
      "C:\\Users\\d2god\\AppData\\Local\\Temp\\ipykernel_1440\\1064374993.py:1: UserWarning: Parsing dates in DD/MM/YYYY format when dayfirst=False (the default) was specified. This may lead to inconsistently parsed dates! Specify a format to ensure consistent parsing.\n",
      "  data['incident_date'] = pd.to_datetime(data['incident_date'])\n"
     ]
    }
   ],
   "source": [
    "data['incident_date'] = pd.to_datetime(data['incident_date'])"
   ]
  },
  {
   "cell_type": "code",
   "execution_count": 42,
   "id": "c9d2bf42",
   "metadata": {},
   "outputs": [],
   "source": [
    "data['incident_year'] = data['incident_date'].dt.year"
   ]
  },
  {
   "cell_type": "code",
   "execution_count": 43,
   "id": "325a0cd5",
   "metadata": {},
   "outputs": [
    {
     "name": "stdout",
     "output_type": "stream",
     "text": [
      "<class 'pandas.core.frame.DataFrame'>\n",
      "Int64Index: 1000 entries, 521585 to 556080\n",
      "Data columns (total 39 columns):\n",
      " #   Column                       Non-Null Count  Dtype         \n",
      "---  ------                       --------------  -----         \n",
      " 0   months_as_customer           1000 non-null   int64         \n",
      " 1   age                          1000 non-null   int64         \n",
      " 2   policy_state                 1000 non-null   int32         \n",
      " 3   policy_csl                   1000 non-null   int32         \n",
      " 4   policy_deductable            1000 non-null   int64         \n",
      " 5   policy_annual_premium        1000 non-null   float64       \n",
      " 6   umbrella_limit               1000 non-null   int64         \n",
      " 7   insured_zip                  1000 non-null   int64         \n",
      " 8   insured_sex                  1000 non-null   int32         \n",
      " 9   insured_education_level      1000 non-null   float64       \n",
      " 10  insured_occupation           1000 non-null   int32         \n",
      " 11  insured_hobbies              1000 non-null   int32         \n",
      " 12  insured_relationship         1000 non-null   int32         \n",
      " 13  capital-gains                1000 non-null   int64         \n",
      " 14  capital-loss                 1000 non-null   int64         \n",
      " 15  incident_date                1000 non-null   datetime64[ns]\n",
      " 16  incident_type                1000 non-null   object        \n",
      " 17  collision_type               1000 non-null   object        \n",
      " 18  incident_severity            1000 non-null   object        \n",
      " 19  authorities_contacted        1000 non-null   object        \n",
      " 20  incident_state               1000 non-null   object        \n",
      " 21  incident_city                1000 non-null   object        \n",
      " 22  incident_location            1000 non-null   object        \n",
      " 23  incident_hour_of_the_day     1000 non-null   int64         \n",
      " 24  number_of_vehicles_involved  1000 non-null   int64         \n",
      " 25  property_damage              1000 non-null   object        \n",
      " 26  bodily_injuries              1000 non-null   int64         \n",
      " 27  witnesses                    1000 non-null   int64         \n",
      " 28  police_report_available      1000 non-null   object        \n",
      " 29  total_claim_amount           1000 non-null   int64         \n",
      " 30  injury_claim                 1000 non-null   int64         \n",
      " 31  property_claim               1000 non-null   int64         \n",
      " 32  vehicle_claim                1000 non-null   int64         \n",
      " 33  auto_make                    1000 non-null   object        \n",
      " 34  auto_model                   1000 non-null   object        \n",
      " 35  auto_year                    1000 non-null   int64         \n",
      " 36  fraud_reported               1000 non-null   object        \n",
      " 37  policy_bind_year             1000 non-null   int64         \n",
      " 38  incident_year                1000 non-null   int64         \n",
      "dtypes: datetime64[ns](1), float64(2), int32(6), int64(18), object(12)\n",
      "memory usage: 289.1+ KB\n"
     ]
    }
   ],
   "source": [
    "data.info()"
   ]
  },
  {
   "cell_type": "code",
   "execution_count": 44,
   "id": "6891c1ff",
   "metadata": {},
   "outputs": [],
   "source": [
    "data.drop('incident_date',axis=1,inplace=True)"
   ]
  },
  {
   "cell_type": "code",
   "execution_count": 45,
   "id": "9ee98401",
   "metadata": {},
   "outputs": [
    {
     "data": {
      "text/plain": [
       "4"
      ]
     },
     "execution_count": 45,
     "metadata": {},
     "output_type": "execute_result"
    }
   ],
   "source": [
    "data['incident_type'].nunique()"
   ]
  },
  {
   "cell_type": "code",
   "execution_count": 46,
   "id": "eb34767e",
   "metadata": {},
   "outputs": [
    {
     "data": {
      "text/plain": [
       "Multi-vehicle Collision     419\n",
       "Single Vehicle Collision    403\n",
       "Vehicle Theft                94\n",
       "Parked Car                   84\n",
       "Name: incident_type, dtype: int64"
      ]
     },
     "execution_count": 46,
     "metadata": {},
     "output_type": "execute_result"
    }
   ],
   "source": [
    "data['incident_type'].value_counts()"
   ]
  },
  {
   "cell_type": "code",
   "execution_count": 47,
   "id": "6d36a0d8",
   "metadata": {},
   "outputs": [],
   "source": [
    "data['incident_type'] = le.fit_transform(data['incident_type'])"
   ]
  },
  {
   "cell_type": "code",
   "execution_count": 48,
   "id": "bd9ecd1a",
   "metadata": {},
   "outputs": [
    {
     "data": {
      "text/plain": [
       "4"
      ]
     },
     "execution_count": 48,
     "metadata": {},
     "output_type": "execute_result"
    }
   ],
   "source": [
    "data['collision_type'].nunique()"
   ]
  },
  {
   "cell_type": "code",
   "execution_count": 49,
   "id": "39921ab7",
   "metadata": {},
   "outputs": [
    {
     "data": {
      "text/plain": [
       "Rear Collision     292\n",
       "Side Collision     276\n",
       "Front Collision    254\n",
       "?                  178\n",
       "Name: collision_type, dtype: int64"
      ]
     },
     "execution_count": 49,
     "metadata": {},
     "output_type": "execute_result"
    }
   ],
   "source": [
    "data['collision_type'].value_counts()"
   ]
  },
  {
   "cell_type": "code",
   "execution_count": 50,
   "id": "e5209794",
   "metadata": {},
   "outputs": [],
   "source": [
    "data['collision_type'] = le.fit_transform(data['collision_type'])"
   ]
  },
  {
   "cell_type": "code",
   "execution_count": 51,
   "id": "339bc6ff",
   "metadata": {},
   "outputs": [
    {
     "data": {
      "text/plain": [
       "4"
      ]
     },
     "execution_count": 51,
     "metadata": {},
     "output_type": "execute_result"
    }
   ],
   "source": [
    "data['incident_severity'].nunique()"
   ]
  },
  {
   "cell_type": "code",
   "execution_count": 52,
   "id": "ab3c209e",
   "metadata": {},
   "outputs": [
    {
     "data": {
      "text/plain": [
       "Minor Damage      354\n",
       "Total Loss        280\n",
       "Major Damage      276\n",
       "Trivial Damage     90\n",
       "Name: incident_severity, dtype: int64"
      ]
     },
     "execution_count": 52,
     "metadata": {},
     "output_type": "execute_result"
    }
   ],
   "source": [
    "data['incident_severity'].value_counts()"
   ]
  },
  {
   "cell_type": "code",
   "execution_count": 53,
   "id": "c759da33",
   "metadata": {},
   "outputs": [],
   "source": [
    "oe = OrdinalEncoder(categories=[['Minor Damage','Trivial Damage','Major Damage','Total Loss']])"
   ]
  },
  {
   "cell_type": "code",
   "execution_count": 54,
   "id": "aa3c7dd7",
   "metadata": {},
   "outputs": [],
   "source": [
    "data['incident_severity'] = oe.fit_transform(data['incident_severity'].values.reshape(-1,1))"
   ]
  },
  {
   "cell_type": "code",
   "execution_count": 55,
   "id": "b01af696",
   "metadata": {},
   "outputs": [
    {
     "data": {
      "text/plain": [
       "5"
      ]
     },
     "execution_count": 55,
     "metadata": {},
     "output_type": "execute_result"
    }
   ],
   "source": [
    "data['authorities_contacted'].nunique()"
   ]
  },
  {
   "cell_type": "code",
   "execution_count": 56,
   "id": "9ae43b31",
   "metadata": {},
   "outputs": [
    {
     "data": {
      "text/plain": [
       "Police       292\n",
       "Fire         223\n",
       "Other        198\n",
       "Ambulance    196\n",
       "None          91\n",
       "Name: authorities_contacted, dtype: int64"
      ]
     },
     "execution_count": 56,
     "metadata": {},
     "output_type": "execute_result"
    }
   ],
   "source": [
    "data['authorities_contacted'].value_counts()"
   ]
  },
  {
   "cell_type": "code",
   "execution_count": 57,
   "id": "f5c55acc",
   "metadata": {},
   "outputs": [],
   "source": [
    "data['authorities_contacted'] = le.fit_transform(data['authorities_contacted'])"
   ]
  },
  {
   "cell_type": "code",
   "execution_count": 58,
   "id": "1a845854",
   "metadata": {},
   "outputs": [
    {
     "data": {
      "text/plain": [
       "7"
      ]
     },
     "execution_count": 58,
     "metadata": {},
     "output_type": "execute_result"
    }
   ],
   "source": [
    "data['incident_state'].nunique()"
   ]
  },
  {
   "cell_type": "code",
   "execution_count": 59,
   "id": "6f9c2ae8",
   "metadata": {},
   "outputs": [
    {
     "data": {
      "text/plain": [
       "NY    262\n",
       "SC    248\n",
       "WV    217\n",
       "VA    110\n",
       "NC    110\n",
       "PA     30\n",
       "OH     23\n",
       "Name: incident_state, dtype: int64"
      ]
     },
     "execution_count": 59,
     "metadata": {},
     "output_type": "execute_result"
    }
   ],
   "source": [
    "data['incident_state'].value_counts()"
   ]
  },
  {
   "cell_type": "code",
   "execution_count": 60,
   "id": "ed88df37",
   "metadata": {},
   "outputs": [],
   "source": [
    "data['incident_state'] = le.fit_transform(data['incident_state'])"
   ]
  },
  {
   "cell_type": "code",
   "execution_count": 61,
   "id": "4c410294",
   "metadata": {
    "scrolled": true
   },
   "outputs": [
    {
     "name": "stdout",
     "output_type": "stream",
     "text": [
      "<class 'pandas.core.frame.DataFrame'>\n",
      "Int64Index: 1000 entries, 521585 to 556080\n",
      "Data columns (total 38 columns):\n",
      " #   Column                       Non-Null Count  Dtype  \n",
      "---  ------                       --------------  -----  \n",
      " 0   months_as_customer           1000 non-null   int64  \n",
      " 1   age                          1000 non-null   int64  \n",
      " 2   policy_state                 1000 non-null   int32  \n",
      " 3   policy_csl                   1000 non-null   int32  \n",
      " 4   policy_deductable            1000 non-null   int64  \n",
      " 5   policy_annual_premium        1000 non-null   float64\n",
      " 6   umbrella_limit               1000 non-null   int64  \n",
      " 7   insured_zip                  1000 non-null   int64  \n",
      " 8   insured_sex                  1000 non-null   int32  \n",
      " 9   insured_education_level      1000 non-null   float64\n",
      " 10  insured_occupation           1000 non-null   int32  \n",
      " 11  insured_hobbies              1000 non-null   int32  \n",
      " 12  insured_relationship         1000 non-null   int32  \n",
      " 13  capital-gains                1000 non-null   int64  \n",
      " 14  capital-loss                 1000 non-null   int64  \n",
      " 15  incident_type                1000 non-null   int32  \n",
      " 16  collision_type               1000 non-null   int32  \n",
      " 17  incident_severity            1000 non-null   float64\n",
      " 18  authorities_contacted        1000 non-null   int32  \n",
      " 19  incident_state               1000 non-null   int32  \n",
      " 20  incident_city                1000 non-null   object \n",
      " 21  incident_location            1000 non-null   object \n",
      " 22  incident_hour_of_the_day     1000 non-null   int64  \n",
      " 23  number_of_vehicles_involved  1000 non-null   int64  \n",
      " 24  property_damage              1000 non-null   object \n",
      " 25  bodily_injuries              1000 non-null   int64  \n",
      " 26  witnesses                    1000 non-null   int64  \n",
      " 27  police_report_available      1000 non-null   object \n",
      " 28  total_claim_amount           1000 non-null   int64  \n",
      " 29  injury_claim                 1000 non-null   int64  \n",
      " 30  property_claim               1000 non-null   int64  \n",
      " 31  vehicle_claim                1000 non-null   int64  \n",
      " 32  auto_make                    1000 non-null   object \n",
      " 33  auto_model                   1000 non-null   object \n",
      " 34  auto_year                    1000 non-null   int64  \n",
      " 35  fraud_reported               1000 non-null   object \n",
      " 36  policy_bind_year             1000 non-null   int64  \n",
      " 37  incident_year                1000 non-null   int64  \n",
      "dtypes: float64(3), int32(10), int64(18), object(7)\n",
      "memory usage: 265.6+ KB\n"
     ]
    }
   ],
   "source": [
    "data.info()"
   ]
  },
  {
   "cell_type": "code",
   "execution_count": 62,
   "id": "3125da67",
   "metadata": {},
   "outputs": [
    {
     "data": {
      "text/plain": [
       "7"
      ]
     },
     "execution_count": 62,
     "metadata": {},
     "output_type": "execute_result"
    }
   ],
   "source": [
    "data['incident_city'].nunique()"
   ]
  },
  {
   "cell_type": "code",
   "execution_count": 63,
   "id": "bc77d70a",
   "metadata": {},
   "outputs": [
    {
     "data": {
      "text/plain": [
       "Springfield    157\n",
       "Arlington      152\n",
       "Columbus       149\n",
       "Northbend      145\n",
       "Hillsdale      141\n",
       "Riverwood      134\n",
       "Northbrook     122\n",
       "Name: incident_city, dtype: int64"
      ]
     },
     "execution_count": 63,
     "metadata": {},
     "output_type": "execute_result"
    }
   ],
   "source": [
    "data['incident_city'].value_counts()"
   ]
  },
  {
   "cell_type": "code",
   "execution_count": 64,
   "id": "07abd107",
   "metadata": {},
   "outputs": [],
   "source": [
    "data['incident_city'] = le.fit_transform(data['incident_city'])"
   ]
  },
  {
   "cell_type": "code",
   "execution_count": 65,
   "id": "a98dafb1",
   "metadata": {},
   "outputs": [],
   "source": [
    "data.drop('incident_location',axis=1,inplace=True)"
   ]
  },
  {
   "cell_type": "code",
   "execution_count": 66,
   "id": "db6b1ab3",
   "metadata": {},
   "outputs": [
    {
     "data": {
      "text/plain": [
       "3"
      ]
     },
     "execution_count": 66,
     "metadata": {},
     "output_type": "execute_result"
    }
   ],
   "source": [
    "data['property_damage'].nunique()"
   ]
  },
  {
   "cell_type": "code",
   "execution_count": 67,
   "id": "0035c0bd",
   "metadata": {},
   "outputs": [
    {
     "data": {
      "text/plain": [
       "?      360\n",
       "NO     338\n",
       "YES    302\n",
       "Name: property_damage, dtype: int64"
      ]
     },
     "execution_count": 67,
     "metadata": {},
     "output_type": "execute_result"
    }
   ],
   "source": [
    "data['property_damage'].value_counts()"
   ]
  },
  {
   "cell_type": "code",
   "execution_count": 68,
   "id": "a39a3439",
   "metadata": {},
   "outputs": [],
   "source": [
    "data['property_damage'] = le.fit_transform(data['property_damage'])"
   ]
  },
  {
   "cell_type": "code",
   "execution_count": 69,
   "id": "a05c783a",
   "metadata": {},
   "outputs": [
    {
     "data": {
      "text/plain": [
       "3"
      ]
     },
     "execution_count": 69,
     "metadata": {},
     "output_type": "execute_result"
    }
   ],
   "source": [
    "data['police_report_available'].nunique()"
   ]
  },
  {
   "cell_type": "code",
   "execution_count": 70,
   "id": "88dc60ad",
   "metadata": {},
   "outputs": [
    {
     "data": {
      "text/plain": [
       "?      343\n",
       "NO     343\n",
       "YES    314\n",
       "Name: police_report_available, dtype: int64"
      ]
     },
     "execution_count": 70,
     "metadata": {},
     "output_type": "execute_result"
    }
   ],
   "source": [
    "data['police_report_available'].value_counts()"
   ]
  },
  {
   "cell_type": "code",
   "execution_count": 71,
   "id": "034a59c0",
   "metadata": {},
   "outputs": [],
   "source": [
    "data['police_report_available'] = le.fit_transform(data['police_report_available'])"
   ]
  },
  {
   "cell_type": "code",
   "execution_count": 72,
   "id": "5e55e78f",
   "metadata": {},
   "outputs": [
    {
     "data": {
      "text/plain": [
       "14"
      ]
     },
     "execution_count": 72,
     "metadata": {},
     "output_type": "execute_result"
    }
   ],
   "source": [
    "data['auto_make'].nunique()"
   ]
  },
  {
   "cell_type": "code",
   "execution_count": 73,
   "id": "d85bc339",
   "metadata": {},
   "outputs": [
    {
     "data": {
      "text/plain": [
       "Saab          80\n",
       "Dodge         80\n",
       "Suburu        80\n",
       "Nissan        78\n",
       "Chevrolet     76\n",
       "Ford          72\n",
       "BMW           72\n",
       "Toyota        70\n",
       "Audi          69\n",
       "Accura        68\n",
       "Volkswagen    68\n",
       "Jeep          67\n",
       "Mercedes      65\n",
       "Honda         55\n",
       "Name: auto_make, dtype: int64"
      ]
     },
     "execution_count": 73,
     "metadata": {},
     "output_type": "execute_result"
    }
   ],
   "source": [
    "data['auto_make'].value_counts()"
   ]
  },
  {
   "cell_type": "code",
   "execution_count": 74,
   "id": "4accdf22",
   "metadata": {},
   "outputs": [],
   "source": [
    "data['auto_make'] = le.fit_transform(data['auto_make'])"
   ]
  },
  {
   "cell_type": "code",
   "execution_count": 75,
   "id": "b18f2c0e",
   "metadata": {},
   "outputs": [
    {
     "data": {
      "text/plain": [
       "39"
      ]
     },
     "execution_count": 75,
     "metadata": {},
     "output_type": "execute_result"
    }
   ],
   "source": [
    "data['auto_model'].nunique()"
   ]
  },
  {
   "cell_type": "code",
   "execution_count": 76,
   "id": "1e98124e",
   "metadata": {
    "scrolled": true
   },
   "outputs": [
    {
     "data": {
      "text/plain": [
       "RAM               43\n",
       "Wrangler          42\n",
       "A3                37\n",
       "Neon              37\n",
       "MDX               36\n",
       "Jetta             35\n",
       "Passat            33\n",
       "A5                32\n",
       "Legacy            32\n",
       "Pathfinder        31\n",
       "Malibu            30\n",
       "92x               28\n",
       "Camry             28\n",
       "Forrestor         28\n",
       "F150              27\n",
       "95                27\n",
       "E400              27\n",
       "93                25\n",
       "Grand Cherokee    25\n",
       "Escape            24\n",
       "Tahoe             24\n",
       "Maxima            24\n",
       "Ultima            23\n",
       "X5                23\n",
       "Highlander        22\n",
       "Civic             22\n",
       "Silverado         22\n",
       "Fusion            21\n",
       "ML350             20\n",
       "Impreza           20\n",
       "Corolla           20\n",
       "TL                20\n",
       "CRV               20\n",
       "C300              18\n",
       "3 Series          18\n",
       "X6                16\n",
       "M5                15\n",
       "Accord            13\n",
       "RSX               12\n",
       "Name: auto_model, dtype: int64"
      ]
     },
     "execution_count": 76,
     "metadata": {},
     "output_type": "execute_result"
    }
   ],
   "source": [
    "data['auto_model'].value_counts()"
   ]
  },
  {
   "cell_type": "code",
   "execution_count": 77,
   "id": "c44132d3",
   "metadata": {},
   "outputs": [],
   "source": [
    "data['auto_model'] = le.fit_transform(data['auto_model'])"
   ]
  },
  {
   "cell_type": "code",
   "execution_count": 78,
   "id": "b9f445a3",
   "metadata": {},
   "outputs": [
    {
     "data": {
      "text/plain": [
       "2"
      ]
     },
     "execution_count": 78,
     "metadata": {},
     "output_type": "execute_result"
    }
   ],
   "source": [
    "data['fraud_reported'].nunique()"
   ]
  },
  {
   "cell_type": "code",
   "execution_count": 79,
   "id": "7e317ade",
   "metadata": {},
   "outputs": [
    {
     "data": {
      "text/plain": [
       "N    753\n",
       "Y    247\n",
       "Name: fraud_reported, dtype: int64"
      ]
     },
     "execution_count": 79,
     "metadata": {},
     "output_type": "execute_result"
    }
   ],
   "source": [
    "data['fraud_reported'].value_counts()"
   ]
  },
  {
   "cell_type": "code",
   "execution_count": 80,
   "id": "4e07b86d",
   "metadata": {},
   "outputs": [],
   "source": [
    "data['fraud_reported'] = le.fit_transform(data['fraud_reported'])"
   ]
  },
  {
   "cell_type": "code",
   "execution_count": 81,
   "id": "2c8f27cb",
   "metadata": {},
   "outputs": [
    {
     "data": {
      "text/html": [
       "<div>\n",
       "<style scoped>\n",
       "    .dataframe tbody tr th:only-of-type {\n",
       "        vertical-align: middle;\n",
       "    }\n",
       "\n",
       "    .dataframe tbody tr th {\n",
       "        vertical-align: top;\n",
       "    }\n",
       "\n",
       "    .dataframe thead th {\n",
       "        text-align: right;\n",
       "    }\n",
       "</style>\n",
       "<table border=\"1\" class=\"dataframe\">\n",
       "  <thead>\n",
       "    <tr style=\"text-align: right;\">\n",
       "      <th></th>\n",
       "      <th>months_as_customer</th>\n",
       "      <th>age</th>\n",
       "      <th>policy_state</th>\n",
       "      <th>policy_csl</th>\n",
       "      <th>policy_deductable</th>\n",
       "      <th>policy_annual_premium</th>\n",
       "      <th>umbrella_limit</th>\n",
       "      <th>insured_zip</th>\n",
       "      <th>insured_sex</th>\n",
       "      <th>insured_education_level</th>\n",
       "      <th>...</th>\n",
       "      <th>total_claim_amount</th>\n",
       "      <th>injury_claim</th>\n",
       "      <th>property_claim</th>\n",
       "      <th>vehicle_claim</th>\n",
       "      <th>auto_make</th>\n",
       "      <th>auto_model</th>\n",
       "      <th>auto_year</th>\n",
       "      <th>fraud_reported</th>\n",
       "      <th>policy_bind_year</th>\n",
       "      <th>incident_year</th>\n",
       "    </tr>\n",
       "    <tr>\n",
       "      <th>policy_number</th>\n",
       "      <th></th>\n",
       "      <th></th>\n",
       "      <th></th>\n",
       "      <th></th>\n",
       "      <th></th>\n",
       "      <th></th>\n",
       "      <th></th>\n",
       "      <th></th>\n",
       "      <th></th>\n",
       "      <th></th>\n",
       "      <th></th>\n",
       "      <th></th>\n",
       "      <th></th>\n",
       "      <th></th>\n",
       "      <th></th>\n",
       "      <th></th>\n",
       "      <th></th>\n",
       "      <th></th>\n",
       "      <th></th>\n",
       "      <th></th>\n",
       "      <th></th>\n",
       "    </tr>\n",
       "  </thead>\n",
       "  <tbody>\n",
       "    <tr>\n",
       "      <th>521585</th>\n",
       "      <td>328</td>\n",
       "      <td>48</td>\n",
       "      <td>2</td>\n",
       "      <td>1</td>\n",
       "      <td>1000</td>\n",
       "      <td>1406.91</td>\n",
       "      <td>0</td>\n",
       "      <td>466132</td>\n",
       "      <td>1</td>\n",
       "      <td>4.0</td>\n",
       "      <td>...</td>\n",
       "      <td>71610</td>\n",
       "      <td>6510</td>\n",
       "      <td>13020</td>\n",
       "      <td>52080</td>\n",
       "      <td>10</td>\n",
       "      <td>1</td>\n",
       "      <td>2004</td>\n",
       "      <td>1</td>\n",
       "      <td>2014</td>\n",
       "      <td>2015</td>\n",
       "    </tr>\n",
       "    <tr>\n",
       "      <th>342868</th>\n",
       "      <td>228</td>\n",
       "      <td>42</td>\n",
       "      <td>1</td>\n",
       "      <td>1</td>\n",
       "      <td>2000</td>\n",
       "      <td>1197.22</td>\n",
       "      <td>5000000</td>\n",
       "      <td>468176</td>\n",
       "      <td>1</td>\n",
       "      <td>4.0</td>\n",
       "      <td>...</td>\n",
       "      <td>5070</td>\n",
       "      <td>780</td>\n",
       "      <td>780</td>\n",
       "      <td>3510</td>\n",
       "      <td>8</td>\n",
       "      <td>12</td>\n",
       "      <td>2007</td>\n",
       "      <td>1</td>\n",
       "      <td>2006</td>\n",
       "      <td>2015</td>\n",
       "    </tr>\n",
       "    <tr>\n",
       "      <th>687698</th>\n",
       "      <td>134</td>\n",
       "      <td>29</td>\n",
       "      <td>2</td>\n",
       "      <td>0</td>\n",
       "      <td>2000</td>\n",
       "      <td>1413.14</td>\n",
       "      <td>5000000</td>\n",
       "      <td>430632</td>\n",
       "      <td>0</td>\n",
       "      <td>6.0</td>\n",
       "      <td>...</td>\n",
       "      <td>34650</td>\n",
       "      <td>7700</td>\n",
       "      <td>3850</td>\n",
       "      <td>23100</td>\n",
       "      <td>4</td>\n",
       "      <td>30</td>\n",
       "      <td>2007</td>\n",
       "      <td>0</td>\n",
       "      <td>2000</td>\n",
       "      <td>2015</td>\n",
       "    </tr>\n",
       "    <tr>\n",
       "      <th>227811</th>\n",
       "      <td>256</td>\n",
       "      <td>41</td>\n",
       "      <td>0</td>\n",
       "      <td>1</td>\n",
       "      <td>2000</td>\n",
       "      <td>1415.74</td>\n",
       "      <td>6000000</td>\n",
       "      <td>608117</td>\n",
       "      <td>0</td>\n",
       "      <td>6.0</td>\n",
       "      <td>...</td>\n",
       "      <td>63400</td>\n",
       "      <td>6340</td>\n",
       "      <td>6340</td>\n",
       "      <td>50720</td>\n",
       "      <td>3</td>\n",
       "      <td>34</td>\n",
       "      <td>2014</td>\n",
       "      <td>1</td>\n",
       "      <td>1990</td>\n",
       "      <td>2015</td>\n",
       "    </tr>\n",
       "    <tr>\n",
       "      <th>367455</th>\n",
       "      <td>228</td>\n",
       "      <td>44</td>\n",
       "      <td>0</td>\n",
       "      <td>2</td>\n",
       "      <td>1000</td>\n",
       "      <td>1583.91</td>\n",
       "      <td>6000000</td>\n",
       "      <td>610706</td>\n",
       "      <td>1</td>\n",
       "      <td>3.0</td>\n",
       "      <td>...</td>\n",
       "      <td>6500</td>\n",
       "      <td>1300</td>\n",
       "      <td>650</td>\n",
       "      <td>4550</td>\n",
       "      <td>0</td>\n",
       "      <td>31</td>\n",
       "      <td>2009</td>\n",
       "      <td>0</td>\n",
       "      <td>2014</td>\n",
       "      <td>2015</td>\n",
       "    </tr>\n",
       "  </tbody>\n",
       "</table>\n",
       "<p>5 rows × 37 columns</p>\n",
       "</div>"
      ],
      "text/plain": [
       "               months_as_customer  age  policy_state  policy_csl  \\\n",
       "policy_number                                                      \n",
       "521585                        328   48             2           1   \n",
       "342868                        228   42             1           1   \n",
       "687698                        134   29             2           0   \n",
       "227811                        256   41             0           1   \n",
       "367455                        228   44             0           2   \n",
       "\n",
       "               policy_deductable  policy_annual_premium  umbrella_limit  \\\n",
       "policy_number                                                             \n",
       "521585                      1000                1406.91               0   \n",
       "342868                      2000                1197.22         5000000   \n",
       "687698                      2000                1413.14         5000000   \n",
       "227811                      2000                1415.74         6000000   \n",
       "367455                      1000                1583.91         6000000   \n",
       "\n",
       "               insured_zip  insured_sex  insured_education_level  ...  \\\n",
       "policy_number                                                     ...   \n",
       "521585              466132            1                      4.0  ...   \n",
       "342868              468176            1                      4.0  ...   \n",
       "687698              430632            0                      6.0  ...   \n",
       "227811              608117            0                      6.0  ...   \n",
       "367455              610706            1                      3.0  ...   \n",
       "\n",
       "               total_claim_amount  injury_claim  property_claim  \\\n",
       "policy_number                                                     \n",
       "521585                      71610          6510           13020   \n",
       "342868                       5070           780             780   \n",
       "687698                      34650          7700            3850   \n",
       "227811                      63400          6340            6340   \n",
       "367455                       6500          1300             650   \n",
       "\n",
       "               vehicle_claim  auto_make  auto_model  auto_year  \\\n",
       "policy_number                                                    \n",
       "521585                 52080         10           1       2004   \n",
       "342868                  3510          8          12       2007   \n",
       "687698                 23100          4          30       2007   \n",
       "227811                 50720          3          34       2014   \n",
       "367455                  4550          0          31       2009   \n",
       "\n",
       "               fraud_reported  policy_bind_year  incident_year  \n",
       "policy_number                                                   \n",
       "521585                      1              2014           2015  \n",
       "342868                      1              2006           2015  \n",
       "687698                      0              2000           2015  \n",
       "227811                      1              1990           2015  \n",
       "367455                      0              2014           2015  \n",
       "\n",
       "[5 rows x 37 columns]"
      ]
     },
     "execution_count": 81,
     "metadata": {},
     "output_type": "execute_result"
    }
   ],
   "source": [
    "data.head()"
   ]
  },
  {
   "cell_type": "code",
   "execution_count": 82,
   "id": "1d836024",
   "metadata": {},
   "outputs": [
    {
     "name": "stdout",
     "output_type": "stream",
     "text": [
      "<class 'pandas.core.frame.DataFrame'>\n",
      "Int64Index: 1000 entries, 521585 to 556080\n",
      "Data columns (total 37 columns):\n",
      " #   Column                       Non-Null Count  Dtype  \n",
      "---  ------                       --------------  -----  \n",
      " 0   months_as_customer           1000 non-null   int64  \n",
      " 1   age                          1000 non-null   int64  \n",
      " 2   policy_state                 1000 non-null   int32  \n",
      " 3   policy_csl                   1000 non-null   int32  \n",
      " 4   policy_deductable            1000 non-null   int64  \n",
      " 5   policy_annual_premium        1000 non-null   float64\n",
      " 6   umbrella_limit               1000 non-null   int64  \n",
      " 7   insured_zip                  1000 non-null   int64  \n",
      " 8   insured_sex                  1000 non-null   int32  \n",
      " 9   insured_education_level      1000 non-null   float64\n",
      " 10  insured_occupation           1000 non-null   int32  \n",
      " 11  insured_hobbies              1000 non-null   int32  \n",
      " 12  insured_relationship         1000 non-null   int32  \n",
      " 13  capital-gains                1000 non-null   int64  \n",
      " 14  capital-loss                 1000 non-null   int64  \n",
      " 15  incident_type                1000 non-null   int32  \n",
      " 16  collision_type               1000 non-null   int32  \n",
      " 17  incident_severity            1000 non-null   float64\n",
      " 18  authorities_contacted        1000 non-null   int32  \n",
      " 19  incident_state               1000 non-null   int32  \n",
      " 20  incident_city                1000 non-null   int32  \n",
      " 21  incident_hour_of_the_day     1000 non-null   int64  \n",
      " 22  number_of_vehicles_involved  1000 non-null   int64  \n",
      " 23  property_damage              1000 non-null   int32  \n",
      " 24  bodily_injuries              1000 non-null   int64  \n",
      " 25  witnesses                    1000 non-null   int64  \n",
      " 26  police_report_available      1000 non-null   int32  \n",
      " 27  total_claim_amount           1000 non-null   int64  \n",
      " 28  injury_claim                 1000 non-null   int64  \n",
      " 29  property_claim               1000 non-null   int64  \n",
      " 30  vehicle_claim                1000 non-null   int64  \n",
      " 31  auto_make                    1000 non-null   int32  \n",
      " 32  auto_model                   1000 non-null   int32  \n",
      " 33  auto_year                    1000 non-null   int64  \n",
      " 34  fraud_reported               1000 non-null   int32  \n",
      " 35  policy_bind_year             1000 non-null   int64  \n",
      " 36  incident_year                1000 non-null   int64  \n",
      "dtypes: float64(3), int32(16), int64(18)\n",
      "memory usage: 234.4 KB\n"
     ]
    }
   ],
   "source": [
    "data.info()"
   ]
  },
  {
   "cell_type": "code",
   "execution_count": 83,
   "id": "af1b91e0",
   "metadata": {},
   "outputs": [],
   "source": [
    "data.drop('insured_zip',axis=1,inplace=True)"
   ]
  },
  {
   "cell_type": "code",
   "execution_count": 84,
   "id": "b46eefc2",
   "metadata": {},
   "outputs": [],
   "source": [
    "outlier_data = ['policy_annual_premium','total_claim_amount','injury_claim','property_claim','vehicle_claim']"
   ]
  },
  {
   "cell_type": "code",
   "execution_count": 85,
   "id": "b8e3d76e",
   "metadata": {},
   "outputs": [],
   "source": [
    "from scipy.stats import zscore"
   ]
  },
  {
   "cell_type": "code",
   "execution_count": 86,
   "id": "cad905c0",
   "metadata": {},
   "outputs": [],
   "source": [
    "z = zscore(data[outlier_data])"
   ]
  },
  {
   "cell_type": "code",
   "execution_count": 87,
   "id": "9fdc128d",
   "metadata": {},
   "outputs": [],
   "source": [
    "data = data[(z<3).all(axis=1)]"
   ]
  },
  {
   "cell_type": "code",
   "execution_count": 88,
   "id": "6750ba63",
   "metadata": {},
   "outputs": [
    {
     "data": {
      "text/plain": [
       "(998, 36)"
      ]
     },
     "execution_count": 88,
     "metadata": {},
     "output_type": "execute_result"
    }
   ],
   "source": [
    "data.shape"
   ]
  },
  {
   "cell_type": "code",
   "execution_count": 89,
   "id": "02a4b7f0",
   "metadata": {},
   "outputs": [],
   "source": [
    "from sklearn.preprocessing import StandardScaler"
   ]
  },
  {
   "cell_type": "code",
   "execution_count": 90,
   "id": "576aafb9",
   "metadata": {},
   "outputs": [],
   "source": [
    "ss = StandardScaler()"
   ]
  },
  {
   "cell_type": "code",
   "execution_count": 91,
   "id": "a56b08cf",
   "metadata": {},
   "outputs": [],
   "source": [
    "x = data.drop('fraud_reported',axis=1)"
   ]
  },
  {
   "cell_type": "code",
   "execution_count": 92,
   "id": "4133aad2",
   "metadata": {},
   "outputs": [],
   "source": [
    "y = data['fraud_reported']"
   ]
  },
  {
   "cell_type": "code",
   "execution_count": 93,
   "id": "5a730eab",
   "metadata": {},
   "outputs": [],
   "source": [
    "data.to_csv('finaldata.csv')"
   ]
  },
  {
   "cell_type": "code",
   "execution_count": 94,
   "id": "6e42244c",
   "metadata": {},
   "outputs": [
    {
     "data": {
      "text/html": [
       "<div>\n",
       "<style scoped>\n",
       "    .dataframe tbody tr th:only-of-type {\n",
       "        vertical-align: middle;\n",
       "    }\n",
       "\n",
       "    .dataframe tbody tr th {\n",
       "        vertical-align: top;\n",
       "    }\n",
       "\n",
       "    .dataframe thead th {\n",
       "        text-align: right;\n",
       "    }\n",
       "</style>\n",
       "<table border=\"1\" class=\"dataframe\">\n",
       "  <thead>\n",
       "    <tr style=\"text-align: right;\">\n",
       "      <th></th>\n",
       "      <th>months_as_customer</th>\n",
       "      <th>age</th>\n",
       "      <th>policy_state</th>\n",
       "      <th>policy_csl</th>\n",
       "      <th>policy_deductable</th>\n",
       "      <th>policy_annual_premium</th>\n",
       "      <th>umbrella_limit</th>\n",
       "      <th>insured_sex</th>\n",
       "      <th>insured_education_level</th>\n",
       "      <th>insured_occupation</th>\n",
       "      <th>...</th>\n",
       "      <th>total_claim_amount</th>\n",
       "      <th>injury_claim</th>\n",
       "      <th>property_claim</th>\n",
       "      <th>vehicle_claim</th>\n",
       "      <th>auto_make</th>\n",
       "      <th>auto_model</th>\n",
       "      <th>auto_year</th>\n",
       "      <th>fraud_reported</th>\n",
       "      <th>policy_bind_year</th>\n",
       "      <th>incident_year</th>\n",
       "    </tr>\n",
       "    <tr>\n",
       "      <th>policy_number</th>\n",
       "      <th></th>\n",
       "      <th></th>\n",
       "      <th></th>\n",
       "      <th></th>\n",
       "      <th></th>\n",
       "      <th></th>\n",
       "      <th></th>\n",
       "      <th></th>\n",
       "      <th></th>\n",
       "      <th></th>\n",
       "      <th></th>\n",
       "      <th></th>\n",
       "      <th></th>\n",
       "      <th></th>\n",
       "      <th></th>\n",
       "      <th></th>\n",
       "      <th></th>\n",
       "      <th></th>\n",
       "      <th></th>\n",
       "      <th></th>\n",
       "      <th></th>\n",
       "    </tr>\n",
       "  </thead>\n",
       "  <tbody>\n",
       "    <tr>\n",
       "      <th>521585</th>\n",
       "      <td>328</td>\n",
       "      <td>48</td>\n",
       "      <td>2</td>\n",
       "      <td>1</td>\n",
       "      <td>1000</td>\n",
       "      <td>1406.91</td>\n",
       "      <td>0</td>\n",
       "      <td>1</td>\n",
       "      <td>4.0</td>\n",
       "      <td>2</td>\n",
       "      <td>...</td>\n",
       "      <td>71610</td>\n",
       "      <td>6510</td>\n",
       "      <td>13020</td>\n",
       "      <td>52080</td>\n",
       "      <td>10</td>\n",
       "      <td>1</td>\n",
       "      <td>2004</td>\n",
       "      <td>1</td>\n",
       "      <td>2014</td>\n",
       "      <td>2015</td>\n",
       "    </tr>\n",
       "    <tr>\n",
       "      <th>342868</th>\n",
       "      <td>228</td>\n",
       "      <td>42</td>\n",
       "      <td>1</td>\n",
       "      <td>1</td>\n",
       "      <td>2000</td>\n",
       "      <td>1197.22</td>\n",
       "      <td>5000000</td>\n",
       "      <td>1</td>\n",
       "      <td>4.0</td>\n",
       "      <td>6</td>\n",
       "      <td>...</td>\n",
       "      <td>5070</td>\n",
       "      <td>780</td>\n",
       "      <td>780</td>\n",
       "      <td>3510</td>\n",
       "      <td>8</td>\n",
       "      <td>12</td>\n",
       "      <td>2007</td>\n",
       "      <td>1</td>\n",
       "      <td>2006</td>\n",
       "      <td>2015</td>\n",
       "    </tr>\n",
       "    <tr>\n",
       "      <th>687698</th>\n",
       "      <td>134</td>\n",
       "      <td>29</td>\n",
       "      <td>2</td>\n",
       "      <td>0</td>\n",
       "      <td>2000</td>\n",
       "      <td>1413.14</td>\n",
       "      <td>5000000</td>\n",
       "      <td>0</td>\n",
       "      <td>6.0</td>\n",
       "      <td>11</td>\n",
       "      <td>...</td>\n",
       "      <td>34650</td>\n",
       "      <td>7700</td>\n",
       "      <td>3850</td>\n",
       "      <td>23100</td>\n",
       "      <td>4</td>\n",
       "      <td>30</td>\n",
       "      <td>2007</td>\n",
       "      <td>0</td>\n",
       "      <td>2000</td>\n",
       "      <td>2015</td>\n",
       "    </tr>\n",
       "    <tr>\n",
       "      <th>227811</th>\n",
       "      <td>256</td>\n",
       "      <td>41</td>\n",
       "      <td>0</td>\n",
       "      <td>1</td>\n",
       "      <td>2000</td>\n",
       "      <td>1415.74</td>\n",
       "      <td>6000000</td>\n",
       "      <td>0</td>\n",
       "      <td>6.0</td>\n",
       "      <td>1</td>\n",
       "      <td>...</td>\n",
       "      <td>63400</td>\n",
       "      <td>6340</td>\n",
       "      <td>6340</td>\n",
       "      <td>50720</td>\n",
       "      <td>3</td>\n",
       "      <td>34</td>\n",
       "      <td>2014</td>\n",
       "      <td>1</td>\n",
       "      <td>1990</td>\n",
       "      <td>2015</td>\n",
       "    </tr>\n",
       "    <tr>\n",
       "      <th>367455</th>\n",
       "      <td>228</td>\n",
       "      <td>44</td>\n",
       "      <td>0</td>\n",
       "      <td>2</td>\n",
       "      <td>1000</td>\n",
       "      <td>1583.91</td>\n",
       "      <td>6000000</td>\n",
       "      <td>1</td>\n",
       "      <td>3.0</td>\n",
       "      <td>11</td>\n",
       "      <td>...</td>\n",
       "      <td>6500</td>\n",
       "      <td>1300</td>\n",
       "      <td>650</td>\n",
       "      <td>4550</td>\n",
       "      <td>0</td>\n",
       "      <td>31</td>\n",
       "      <td>2009</td>\n",
       "      <td>0</td>\n",
       "      <td>2014</td>\n",
       "      <td>2015</td>\n",
       "    </tr>\n",
       "  </tbody>\n",
       "</table>\n",
       "<p>5 rows × 36 columns</p>\n",
       "</div>"
      ],
      "text/plain": [
       "               months_as_customer  age  policy_state  policy_csl  \\\n",
       "policy_number                                                      \n",
       "521585                        328   48             2           1   \n",
       "342868                        228   42             1           1   \n",
       "687698                        134   29             2           0   \n",
       "227811                        256   41             0           1   \n",
       "367455                        228   44             0           2   \n",
       "\n",
       "               policy_deductable  policy_annual_premium  umbrella_limit  \\\n",
       "policy_number                                                             \n",
       "521585                      1000                1406.91               0   \n",
       "342868                      2000                1197.22         5000000   \n",
       "687698                      2000                1413.14         5000000   \n",
       "227811                      2000                1415.74         6000000   \n",
       "367455                      1000                1583.91         6000000   \n",
       "\n",
       "               insured_sex  insured_education_level  insured_occupation  ...  \\\n",
       "policy_number                                                            ...   \n",
       "521585                   1                      4.0                   2  ...   \n",
       "342868                   1                      4.0                   6  ...   \n",
       "687698                   0                      6.0                  11  ...   \n",
       "227811                   0                      6.0                   1  ...   \n",
       "367455                   1                      3.0                  11  ...   \n",
       "\n",
       "               total_claim_amount  injury_claim  property_claim  \\\n",
       "policy_number                                                     \n",
       "521585                      71610          6510           13020   \n",
       "342868                       5070           780             780   \n",
       "687698                      34650          7700            3850   \n",
       "227811                      63400          6340            6340   \n",
       "367455                       6500          1300             650   \n",
       "\n",
       "               vehicle_claim  auto_make  auto_model  auto_year  \\\n",
       "policy_number                                                    \n",
       "521585                 52080         10           1       2004   \n",
       "342868                  3510          8          12       2007   \n",
       "687698                 23100          4          30       2007   \n",
       "227811                 50720          3          34       2014   \n",
       "367455                  4550          0          31       2009   \n",
       "\n",
       "               fraud_reported  policy_bind_year  incident_year  \n",
       "policy_number                                                   \n",
       "521585                      1              2014           2015  \n",
       "342868                      1              2006           2015  \n",
       "687698                      0              2000           2015  \n",
       "227811                      1              1990           2015  \n",
       "367455                      0              2014           2015  \n",
       "\n",
       "[5 rows x 36 columns]"
      ]
     },
     "execution_count": 94,
     "metadata": {},
     "output_type": "execute_result"
    }
   ],
   "source": [
    "data.head()"
   ]
  },
  {
   "cell_type": "code",
   "execution_count": 95,
   "id": "6227d59d",
   "metadata": {},
   "outputs": [],
   "source": [
    "from sklearn.feature_selection import RFE"
   ]
  },
  {
   "cell_type": "code",
   "execution_count": 96,
   "id": "b55ef43b",
   "metadata": {},
   "outputs": [
    {
     "data": {
      "text/plain": [
       "(998, 35)"
      ]
     },
     "execution_count": 96,
     "metadata": {},
     "output_type": "execute_result"
    }
   ],
   "source": [
    "x.shape"
   ]
  },
  {
   "cell_type": "code",
   "execution_count": 97,
   "id": "fb340ec1",
   "metadata": {},
   "outputs": [],
   "source": [
    "from sklearn.ensemble import RandomForestClassifier"
   ]
  },
  {
   "cell_type": "code",
   "execution_count": 98,
   "id": "aa4483a4",
   "metadata": {},
   "outputs": [],
   "source": [
    "rf = RandomForestClassifier()"
   ]
  },
  {
   "cell_type": "code",
   "execution_count": 99,
   "id": "cc2bdcc1",
   "metadata": {},
   "outputs": [],
   "source": [
    "selector = RFE(estimator=rf,n_features_to_select=15) "
   ]
  },
  {
   "cell_type": "code",
   "execution_count": 100,
   "id": "419918be",
   "metadata": {},
   "outputs": [
    {
     "data": {
      "text/html": [
       "<style>#sk-container-id-1 {color: black;background-color: white;}#sk-container-id-1 pre{padding: 0;}#sk-container-id-1 div.sk-toggleable {background-color: white;}#sk-container-id-1 label.sk-toggleable__label {cursor: pointer;display: block;width: 100%;margin-bottom: 0;padding: 0.3em;box-sizing: border-box;text-align: center;}#sk-container-id-1 label.sk-toggleable__label-arrow:before {content: \"▸\";float: left;margin-right: 0.25em;color: #696969;}#sk-container-id-1 label.sk-toggleable__label-arrow:hover:before {color: black;}#sk-container-id-1 div.sk-estimator:hover label.sk-toggleable__label-arrow:before {color: black;}#sk-container-id-1 div.sk-toggleable__content {max-height: 0;max-width: 0;overflow: hidden;text-align: left;background-color: #f0f8ff;}#sk-container-id-1 div.sk-toggleable__content pre {margin: 0.2em;color: black;border-radius: 0.25em;background-color: #f0f8ff;}#sk-container-id-1 input.sk-toggleable__control:checked~div.sk-toggleable__content {max-height: 200px;max-width: 100%;overflow: auto;}#sk-container-id-1 input.sk-toggleable__control:checked~label.sk-toggleable__label-arrow:before {content: \"▾\";}#sk-container-id-1 div.sk-estimator input.sk-toggleable__control:checked~label.sk-toggleable__label {background-color: #d4ebff;}#sk-container-id-1 div.sk-label input.sk-toggleable__control:checked~label.sk-toggleable__label {background-color: #d4ebff;}#sk-container-id-1 input.sk-hidden--visually {border: 0;clip: rect(1px 1px 1px 1px);clip: rect(1px, 1px, 1px, 1px);height: 1px;margin: -1px;overflow: hidden;padding: 0;position: absolute;width: 1px;}#sk-container-id-1 div.sk-estimator {font-family: monospace;background-color: #f0f8ff;border: 1px dotted black;border-radius: 0.25em;box-sizing: border-box;margin-bottom: 0.5em;}#sk-container-id-1 div.sk-estimator:hover {background-color: #d4ebff;}#sk-container-id-1 div.sk-parallel-item::after {content: \"\";width: 100%;border-bottom: 1px solid gray;flex-grow: 1;}#sk-container-id-1 div.sk-label:hover label.sk-toggleable__label {background-color: #d4ebff;}#sk-container-id-1 div.sk-serial::before {content: \"\";position: absolute;border-left: 1px solid gray;box-sizing: border-box;top: 0;bottom: 0;left: 50%;z-index: 0;}#sk-container-id-1 div.sk-serial {display: flex;flex-direction: column;align-items: center;background-color: white;padding-right: 0.2em;padding-left: 0.2em;position: relative;}#sk-container-id-1 div.sk-item {position: relative;z-index: 1;}#sk-container-id-1 div.sk-parallel {display: flex;align-items: stretch;justify-content: center;background-color: white;position: relative;}#sk-container-id-1 div.sk-item::before, #sk-container-id-1 div.sk-parallel-item::before {content: \"\";position: absolute;border-left: 1px solid gray;box-sizing: border-box;top: 0;bottom: 0;left: 50%;z-index: -1;}#sk-container-id-1 div.sk-parallel-item {display: flex;flex-direction: column;z-index: 1;position: relative;background-color: white;}#sk-container-id-1 div.sk-parallel-item:first-child::after {align-self: flex-end;width: 50%;}#sk-container-id-1 div.sk-parallel-item:last-child::after {align-self: flex-start;width: 50%;}#sk-container-id-1 div.sk-parallel-item:only-child::after {width: 0;}#sk-container-id-1 div.sk-dashed-wrapped {border: 1px dashed gray;margin: 0 0.4em 0.5em 0.4em;box-sizing: border-box;padding-bottom: 0.4em;background-color: white;}#sk-container-id-1 div.sk-label label {font-family: monospace;font-weight: bold;display: inline-block;line-height: 1.2em;}#sk-container-id-1 div.sk-label-container {text-align: center;}#sk-container-id-1 div.sk-container {/* jupyter's `normalize.less` sets `[hidden] { display: none; }` but bootstrap.min.css set `[hidden] { display: none !important; }` so we also need the `!important` here to be able to override the default hidden behavior on the sphinx rendered scikit-learn.org. See: https://github.com/scikit-learn/scikit-learn/issues/21755 */display: inline-block !important;position: relative;}#sk-container-id-1 div.sk-text-repr-fallback {display: none;}</style><div id=\"sk-container-id-1\" class=\"sk-top-container\"><div class=\"sk-text-repr-fallback\"><pre>RFE(estimator=RandomForestClassifier(), n_features_to_select=15)</pre><b>In a Jupyter environment, please rerun this cell to show the HTML representation or trust the notebook. <br />On GitHub, the HTML representation is unable to render, please try loading this page with nbviewer.org.</b></div><div class=\"sk-container\" hidden><div class=\"sk-item sk-dashed-wrapped\"><div class=\"sk-label-container\"><div class=\"sk-label sk-toggleable\"><input class=\"sk-toggleable__control sk-hidden--visually\" id=\"sk-estimator-id-1\" type=\"checkbox\" ><label for=\"sk-estimator-id-1\" class=\"sk-toggleable__label sk-toggleable__label-arrow\">RFE</label><div class=\"sk-toggleable__content\"><pre>RFE(estimator=RandomForestClassifier(), n_features_to_select=15)</pre></div></div></div><div class=\"sk-parallel\"><div class=\"sk-parallel-item\"><div class=\"sk-item\"><div class=\"sk-label-container\"><div class=\"sk-label sk-toggleable\"><input class=\"sk-toggleable__control sk-hidden--visually\" id=\"sk-estimator-id-2\" type=\"checkbox\" ><label for=\"sk-estimator-id-2\" class=\"sk-toggleable__label sk-toggleable__label-arrow\">estimator: RandomForestClassifier</label><div class=\"sk-toggleable__content\"><pre>RandomForestClassifier()</pre></div></div></div><div class=\"sk-serial\"><div class=\"sk-item\"><div class=\"sk-estimator sk-toggleable\"><input class=\"sk-toggleable__control sk-hidden--visually\" id=\"sk-estimator-id-3\" type=\"checkbox\" ><label for=\"sk-estimator-id-3\" class=\"sk-toggleable__label sk-toggleable__label-arrow\">RandomForestClassifier</label><div class=\"sk-toggleable__content\"><pre>RandomForestClassifier()</pre></div></div></div></div></div></div></div></div></div></div>"
      ],
      "text/plain": [
       "RFE(estimator=RandomForestClassifier(), n_features_to_select=15)"
      ]
     },
     "execution_count": 100,
     "metadata": {},
     "output_type": "execute_result"
    }
   ],
   "source": [
    "selector.fit(x,y)"
   ]
  },
  {
   "cell_type": "code",
   "execution_count": 101,
   "id": "24b9922f",
   "metadata": {},
   "outputs": [],
   "source": [
    "a = x.columns[selector.support_]"
   ]
  },
  {
   "cell_type": "code",
   "execution_count": 102,
   "id": "141ca05e",
   "metadata": {},
   "outputs": [
    {
     "data": {
      "text/plain": [
       "Index(['months_as_customer', 'age', 'policy_annual_premium',\n",
       "       'insured_occupation', 'insured_hobbies', 'incident_severity',\n",
       "       'incident_hour_of_the_day', 'total_claim_amount', 'injury_claim',\n",
       "       'property_claim', 'vehicle_claim', 'auto_make', 'auto_model',\n",
       "       'auto_year', 'policy_bind_year'],\n",
       "      dtype='object')"
      ]
     },
     "execution_count": 102,
     "metadata": {},
     "output_type": "execute_result"
    }
   ],
   "source": [
    "a"
   ]
  },
  {
   "cell_type": "code",
   "execution_count": 103,
   "id": "1df24724",
   "metadata": {},
   "outputs": [],
   "source": [
    "x = x[a]"
   ]
  },
  {
   "cell_type": "code",
   "execution_count": 104,
   "id": "da79711d",
   "metadata": {},
   "outputs": [
    {
     "data": {
      "text/plain": [
       "(998, 15)"
      ]
     },
     "execution_count": 104,
     "metadata": {},
     "output_type": "execute_result"
    }
   ],
   "source": [
    "x.shape"
   ]
  },
  {
   "cell_type": "code",
   "execution_count": 105,
   "id": "fd699747",
   "metadata": {},
   "outputs": [],
   "source": [
    "from sklearn.model_selection import train_test_split"
   ]
  },
  {
   "cell_type": "code",
   "execution_count": 106,
   "id": "fedfad37",
   "metadata": {},
   "outputs": [],
   "source": [
    "x_train,x_test,y_train,y_test = train_test_split(x,y,test_size=0.2,random_state=67)"
   ]
  },
  {
   "cell_type": "code",
   "execution_count": 107,
   "id": "d02bcd4c",
   "metadata": {},
   "outputs": [
    {
     "data": {
      "text/html": [
       "<div>\n",
       "<style scoped>\n",
       "    .dataframe tbody tr th:only-of-type {\n",
       "        vertical-align: middle;\n",
       "    }\n",
       "\n",
       "    .dataframe tbody tr th {\n",
       "        vertical-align: top;\n",
       "    }\n",
       "\n",
       "    .dataframe thead th {\n",
       "        text-align: right;\n",
       "    }\n",
       "</style>\n",
       "<table border=\"1\" class=\"dataframe\">\n",
       "  <thead>\n",
       "    <tr style=\"text-align: right;\">\n",
       "      <th></th>\n",
       "      <th>months_as_customer</th>\n",
       "      <th>age</th>\n",
       "      <th>policy_annual_premium</th>\n",
       "      <th>insured_occupation</th>\n",
       "      <th>insured_hobbies</th>\n",
       "      <th>incident_severity</th>\n",
       "      <th>incident_hour_of_the_day</th>\n",
       "      <th>total_claim_amount</th>\n",
       "      <th>injury_claim</th>\n",
       "      <th>property_claim</th>\n",
       "      <th>vehicle_claim</th>\n",
       "      <th>auto_make</th>\n",
       "      <th>auto_model</th>\n",
       "      <th>auto_year</th>\n",
       "      <th>policy_bind_year</th>\n",
       "    </tr>\n",
       "    <tr>\n",
       "      <th>policy_number</th>\n",
       "      <th></th>\n",
       "      <th></th>\n",
       "      <th></th>\n",
       "      <th></th>\n",
       "      <th></th>\n",
       "      <th></th>\n",
       "      <th></th>\n",
       "      <th></th>\n",
       "      <th></th>\n",
       "      <th></th>\n",
       "      <th></th>\n",
       "      <th></th>\n",
       "      <th></th>\n",
       "      <th></th>\n",
       "      <th></th>\n",
       "    </tr>\n",
       "  </thead>\n",
       "  <tbody>\n",
       "    <tr>\n",
       "      <th>521592</th>\n",
       "      <td>140</td>\n",
       "      <td>30</td>\n",
       "      <td>1354.20</td>\n",
       "      <td>0</td>\n",
       "      <td>3</td>\n",
       "      <td>0.0</td>\n",
       "      <td>4</td>\n",
       "      <td>60170</td>\n",
       "      <td>5470</td>\n",
       "      <td>10940</td>\n",
       "      <td>43760</td>\n",
       "      <td>9</td>\n",
       "      <td>29</td>\n",
       "      <td>2006</td>\n",
       "      <td>2014</td>\n",
       "    </tr>\n",
       "    <tr>\n",
       "      <th>620215</th>\n",
       "      <td>194</td>\n",
       "      <td>39</td>\n",
       "      <td>823.17</td>\n",
       "      <td>0</td>\n",
       "      <td>13</td>\n",
       "      <td>2.0</td>\n",
       "      <td>3</td>\n",
       "      <td>61500</td>\n",
       "      <td>6150</td>\n",
       "      <td>12300</td>\n",
       "      <td>43050</td>\n",
       "      <td>4</td>\n",
       "      <td>30</td>\n",
       "      <td>2012</td>\n",
       "      <td>2005</td>\n",
       "    </tr>\n",
       "    <tr>\n",
       "      <th>476923</th>\n",
       "      <td>172</td>\n",
       "      <td>35</td>\n",
       "      <td>1219.04</td>\n",
       "      <td>5</td>\n",
       "      <td>13</td>\n",
       "      <td>2.0</td>\n",
       "      <td>19</td>\n",
       "      <td>79750</td>\n",
       "      <td>14500</td>\n",
       "      <td>14500</td>\n",
       "      <td>50750</td>\n",
       "      <td>9</td>\n",
       "      <td>29</td>\n",
       "      <td>1999</td>\n",
       "      <td>2004</td>\n",
       "    </tr>\n",
       "    <tr>\n",
       "      <th>369226</th>\n",
       "      <td>267</td>\n",
       "      <td>43</td>\n",
       "      <td>1300.68</td>\n",
       "      <td>0</td>\n",
       "      <td>17</td>\n",
       "      <td>0.0</td>\n",
       "      <td>0</td>\n",
       "      <td>1920</td>\n",
       "      <td>480</td>\n",
       "      <td>0</td>\n",
       "      <td>1440</td>\n",
       "      <td>3</td>\n",
       "      <td>34</td>\n",
       "      <td>2011</td>\n",
       "      <td>2002</td>\n",
       "    </tr>\n",
       "    <tr>\n",
       "      <th>987905</th>\n",
       "      <td>436</td>\n",
       "      <td>58</td>\n",
       "      <td>1407.01</td>\n",
       "      <td>12</td>\n",
       "      <td>17</td>\n",
       "      <td>2.0</td>\n",
       "      <td>10</td>\n",
       "      <td>59900</td>\n",
       "      <td>11980</td>\n",
       "      <td>5990</td>\n",
       "      <td>41930</td>\n",
       "      <td>2</td>\n",
       "      <td>37</td>\n",
       "      <td>1997</td>\n",
       "      <td>2002</td>\n",
       "    </tr>\n",
       "  </tbody>\n",
       "</table>\n",
       "</div>"
      ],
      "text/plain": [
       "               months_as_customer  age  policy_annual_premium  \\\n",
       "policy_number                                                   \n",
       "521592                        140   30                1354.20   \n",
       "620215                        194   39                 823.17   \n",
       "476923                        172   35                1219.04   \n",
       "369226                        267   43                1300.68   \n",
       "987905                        436   58                1407.01   \n",
       "\n",
       "               insured_occupation  insured_hobbies  incident_severity  \\\n",
       "policy_number                                                           \n",
       "521592                          0                3                0.0   \n",
       "620215                          0               13                2.0   \n",
       "476923                          5               13                2.0   \n",
       "369226                          0               17                0.0   \n",
       "987905                         12               17                2.0   \n",
       "\n",
       "               incident_hour_of_the_day  total_claim_amount  injury_claim  \\\n",
       "policy_number                                                               \n",
       "521592                                4               60170          5470   \n",
       "620215                                3               61500          6150   \n",
       "476923                               19               79750         14500   \n",
       "369226                                0                1920           480   \n",
       "987905                               10               59900         11980   \n",
       "\n",
       "               property_claim  vehicle_claim  auto_make  auto_model  \\\n",
       "policy_number                                                         \n",
       "521592                  10940          43760          9          29   \n",
       "620215                  12300          43050          4          30   \n",
       "476923                  14500          50750          9          29   \n",
       "369226                      0           1440          3          34   \n",
       "987905                   5990          41930          2          37   \n",
       "\n",
       "               auto_year  policy_bind_year  \n",
       "policy_number                               \n",
       "521592              2006              2014  \n",
       "620215              2012              2005  \n",
       "476923              1999              2004  \n",
       "369226              2011              2002  \n",
       "987905              1997              2002  "
      ]
     },
     "execution_count": 107,
     "metadata": {},
     "output_type": "execute_result"
    }
   ],
   "source": [
    "x_train.head()"
   ]
  },
  {
   "cell_type": "code",
   "execution_count": 108,
   "id": "be2ef4e1",
   "metadata": {},
   "outputs": [],
   "source": [
    "c = list(x_train.columns)"
   ]
  },
  {
   "cell_type": "code",
   "execution_count": 109,
   "id": "45a224a7",
   "metadata": {},
   "outputs": [],
   "source": [
    "c.remove('auto_year')"
   ]
  },
  {
   "cell_type": "code",
   "execution_count": 110,
   "id": "b57e98b9",
   "metadata": {},
   "outputs": [],
   "source": [
    "c.remove('policy_bind_year')"
   ]
  },
  {
   "cell_type": "code",
   "execution_count": 111,
   "id": "9b9ded64",
   "metadata": {},
   "outputs": [],
   "source": [
    "x_train[c] = ss.fit_transform(x_train[c])"
   ]
  },
  {
   "cell_type": "code",
   "execution_count": 112,
   "id": "127a8bb6",
   "metadata": {},
   "outputs": [],
   "source": [
    "x_test[c] = ss.transform(x_test[c])"
   ]
  },
  {
   "cell_type": "code",
   "execution_count": 113,
   "id": "8444d525",
   "metadata": {},
   "outputs": [
    {
     "data": {
      "text/html": [
       "<style>#sk-container-id-2 {color: black;background-color: white;}#sk-container-id-2 pre{padding: 0;}#sk-container-id-2 div.sk-toggleable {background-color: white;}#sk-container-id-2 label.sk-toggleable__label {cursor: pointer;display: block;width: 100%;margin-bottom: 0;padding: 0.3em;box-sizing: border-box;text-align: center;}#sk-container-id-2 label.sk-toggleable__label-arrow:before {content: \"▸\";float: left;margin-right: 0.25em;color: #696969;}#sk-container-id-2 label.sk-toggleable__label-arrow:hover:before {color: black;}#sk-container-id-2 div.sk-estimator:hover label.sk-toggleable__label-arrow:before {color: black;}#sk-container-id-2 div.sk-toggleable__content {max-height: 0;max-width: 0;overflow: hidden;text-align: left;background-color: #f0f8ff;}#sk-container-id-2 div.sk-toggleable__content pre {margin: 0.2em;color: black;border-radius: 0.25em;background-color: #f0f8ff;}#sk-container-id-2 input.sk-toggleable__control:checked~div.sk-toggleable__content {max-height: 200px;max-width: 100%;overflow: auto;}#sk-container-id-2 input.sk-toggleable__control:checked~label.sk-toggleable__label-arrow:before {content: \"▾\";}#sk-container-id-2 div.sk-estimator input.sk-toggleable__control:checked~label.sk-toggleable__label {background-color: #d4ebff;}#sk-container-id-2 div.sk-label input.sk-toggleable__control:checked~label.sk-toggleable__label {background-color: #d4ebff;}#sk-container-id-2 input.sk-hidden--visually {border: 0;clip: rect(1px 1px 1px 1px);clip: rect(1px, 1px, 1px, 1px);height: 1px;margin: -1px;overflow: hidden;padding: 0;position: absolute;width: 1px;}#sk-container-id-2 div.sk-estimator {font-family: monospace;background-color: #f0f8ff;border: 1px dotted black;border-radius: 0.25em;box-sizing: border-box;margin-bottom: 0.5em;}#sk-container-id-2 div.sk-estimator:hover {background-color: #d4ebff;}#sk-container-id-2 div.sk-parallel-item::after {content: \"\";width: 100%;border-bottom: 1px solid gray;flex-grow: 1;}#sk-container-id-2 div.sk-label:hover label.sk-toggleable__label {background-color: #d4ebff;}#sk-container-id-2 div.sk-serial::before {content: \"\";position: absolute;border-left: 1px solid gray;box-sizing: border-box;top: 0;bottom: 0;left: 50%;z-index: 0;}#sk-container-id-2 div.sk-serial {display: flex;flex-direction: column;align-items: center;background-color: white;padding-right: 0.2em;padding-left: 0.2em;position: relative;}#sk-container-id-2 div.sk-item {position: relative;z-index: 1;}#sk-container-id-2 div.sk-parallel {display: flex;align-items: stretch;justify-content: center;background-color: white;position: relative;}#sk-container-id-2 div.sk-item::before, #sk-container-id-2 div.sk-parallel-item::before {content: \"\";position: absolute;border-left: 1px solid gray;box-sizing: border-box;top: 0;bottom: 0;left: 50%;z-index: -1;}#sk-container-id-2 div.sk-parallel-item {display: flex;flex-direction: column;z-index: 1;position: relative;background-color: white;}#sk-container-id-2 div.sk-parallel-item:first-child::after {align-self: flex-end;width: 50%;}#sk-container-id-2 div.sk-parallel-item:last-child::after {align-self: flex-start;width: 50%;}#sk-container-id-2 div.sk-parallel-item:only-child::after {width: 0;}#sk-container-id-2 div.sk-dashed-wrapped {border: 1px dashed gray;margin: 0 0.4em 0.5em 0.4em;box-sizing: border-box;padding-bottom: 0.4em;background-color: white;}#sk-container-id-2 div.sk-label label {font-family: monospace;font-weight: bold;display: inline-block;line-height: 1.2em;}#sk-container-id-2 div.sk-label-container {text-align: center;}#sk-container-id-2 div.sk-container {/* jupyter's `normalize.less` sets `[hidden] { display: none; }` but bootstrap.min.css set `[hidden] { display: none !important; }` so we also need the `!important` here to be able to override the default hidden behavior on the sphinx rendered scikit-learn.org. See: https://github.com/scikit-learn/scikit-learn/issues/21755 */display: inline-block !important;position: relative;}#sk-container-id-2 div.sk-text-repr-fallback {display: none;}</style><div id=\"sk-container-id-2\" class=\"sk-top-container\"><div class=\"sk-text-repr-fallback\"><pre>RandomForestClassifier()</pre><b>In a Jupyter environment, please rerun this cell to show the HTML representation or trust the notebook. <br />On GitHub, the HTML representation is unable to render, please try loading this page with nbviewer.org.</b></div><div class=\"sk-container\" hidden><div class=\"sk-item\"><div class=\"sk-estimator sk-toggleable\"><input class=\"sk-toggleable__control sk-hidden--visually\" id=\"sk-estimator-id-4\" type=\"checkbox\" checked><label for=\"sk-estimator-id-4\" class=\"sk-toggleable__label sk-toggleable__label-arrow\">RandomForestClassifier</label><div class=\"sk-toggleable__content\"><pre>RandomForestClassifier()</pre></div></div></div></div></div>"
      ],
      "text/plain": [
       "RandomForestClassifier()"
      ]
     },
     "execution_count": 113,
     "metadata": {},
     "output_type": "execute_result"
    }
   ],
   "source": [
    "rf.fit(x_train,y_train)"
   ]
  },
  {
   "cell_type": "code",
   "execution_count": 114,
   "id": "4ede70f5",
   "metadata": {},
   "outputs": [],
   "source": [
    "pred = rf.predict(x_test)"
   ]
  },
  {
   "cell_type": "code",
   "execution_count": 115,
   "id": "0c1341a0",
   "metadata": {},
   "outputs": [],
   "source": [
    "result = pd.DataFrame({'Actual':y_test,'Predicted':pred})"
   ]
  },
  {
   "cell_type": "code",
   "execution_count": 116,
   "id": "327920c9",
   "metadata": {},
   "outputs": [
    {
     "data": {
      "text/html": [
       "<div>\n",
       "<style scoped>\n",
       "    .dataframe tbody tr th:only-of-type {\n",
       "        vertical-align: middle;\n",
       "    }\n",
       "\n",
       "    .dataframe tbody tr th {\n",
       "        vertical-align: top;\n",
       "    }\n",
       "\n",
       "    .dataframe thead th {\n",
       "        text-align: right;\n",
       "    }\n",
       "</style>\n",
       "<table border=\"1\" class=\"dataframe\">\n",
       "  <thead>\n",
       "    <tr style=\"text-align: right;\">\n",
       "      <th></th>\n",
       "      <th>Actual</th>\n",
       "      <th>Predicted</th>\n",
       "    </tr>\n",
       "    <tr>\n",
       "      <th>policy_number</th>\n",
       "      <th></th>\n",
       "      <th></th>\n",
       "    </tr>\n",
       "  </thead>\n",
       "  <tbody>\n",
       "    <tr>\n",
       "      <th>607974</th>\n",
       "      <td>0</td>\n",
       "      <td>0</td>\n",
       "    </tr>\n",
       "    <tr>\n",
       "      <th>608513</th>\n",
       "      <td>1</td>\n",
       "      <td>0</td>\n",
       "    </tr>\n",
       "    <tr>\n",
       "      <th>398484</th>\n",
       "      <td>0</td>\n",
       "      <td>0</td>\n",
       "    </tr>\n",
       "    <tr>\n",
       "      <th>636843</th>\n",
       "      <td>0</td>\n",
       "      <td>0</td>\n",
       "    </tr>\n",
       "    <tr>\n",
       "      <th>212674</th>\n",
       "      <td>1</td>\n",
       "      <td>0</td>\n",
       "    </tr>\n",
       "    <tr>\n",
       "      <th>...</th>\n",
       "      <td>...</td>\n",
       "      <td>...</td>\n",
       "    </tr>\n",
       "    <tr>\n",
       "      <th>458829</th>\n",
       "      <td>0</td>\n",
       "      <td>0</td>\n",
       "    </tr>\n",
       "    <tr>\n",
       "      <th>722747</th>\n",
       "      <td>0</td>\n",
       "      <td>0</td>\n",
       "    </tr>\n",
       "    <tr>\n",
       "      <th>502634</th>\n",
       "      <td>0</td>\n",
       "      <td>0</td>\n",
       "    </tr>\n",
       "    <tr>\n",
       "      <th>219028</th>\n",
       "      <td>1</td>\n",
       "      <td>1</td>\n",
       "    </tr>\n",
       "    <tr>\n",
       "      <th>445694</th>\n",
       "      <td>0</td>\n",
       "      <td>0</td>\n",
       "    </tr>\n",
       "  </tbody>\n",
       "</table>\n",
       "<p>200 rows × 2 columns</p>\n",
       "</div>"
      ],
      "text/plain": [
       "               Actual  Predicted\n",
       "policy_number                   \n",
       "607974              0          0\n",
       "608513              1          0\n",
       "398484              0          0\n",
       "636843              0          0\n",
       "212674              1          0\n",
       "...               ...        ...\n",
       "458829              0          0\n",
       "722747              0          0\n",
       "502634              0          0\n",
       "219028              1          1\n",
       "445694              0          0\n",
       "\n",
       "[200 rows x 2 columns]"
      ]
     },
     "execution_count": 116,
     "metadata": {},
     "output_type": "execute_result"
    }
   ],
   "source": [
    "result"
   ]
  },
  {
   "cell_type": "code",
   "execution_count": 117,
   "id": "2caaa4af",
   "metadata": {},
   "outputs": [],
   "source": [
    "from sklearn.metrics import classification_report"
   ]
  },
  {
   "cell_type": "code",
   "execution_count": 118,
   "id": "00ec7a4a",
   "metadata": {},
   "outputs": [
    {
     "name": "stdout",
     "output_type": "stream",
     "text": [
      "              precision    recall  f1-score   support\n",
      "\n",
      "           0       0.86      0.89      0.87       160\n",
      "           1       0.47      0.40      0.43        40\n",
      "\n",
      "    accuracy                           0.79       200\n",
      "   macro avg       0.66      0.64      0.65       200\n",
      "weighted avg       0.78      0.79      0.78       200\n",
      "\n"
     ]
    }
   ],
   "source": [
    "print(classification_report(y_test,pred))"
   ]
  },
  {
   "cell_type": "code",
   "execution_count": null,
   "id": "71a2ca15",
   "metadata": {},
   "outputs": [],
   "source": []
  }
 ],
 "metadata": {
  "kernelspec": {
   "display_name": "Python 3 (ipykernel)",
   "language": "python",
   "name": "python3"
  },
  "language_info": {
   "codemirror_mode": {
    "name": "ipython",
    "version": 3
   },
   "file_extension": ".py",
   "mimetype": "text/x-python",
   "name": "python",
   "nbconvert_exporter": "python",
   "pygments_lexer": "ipython3",
   "version": "3.10.9"
  }
 },
 "nbformat": 4,
 "nbformat_minor": 5
}
